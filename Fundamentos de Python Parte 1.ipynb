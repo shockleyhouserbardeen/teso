{
 "cells": [
  {
   "cell_type": "markdown",
   "metadata": {
    "colab_type": "text",
    "id": "nQRZ3u_b9bZd"
   },
   "source": [
    "# Fundamentos de Python\n",
    "\n",
    "## Python Notebooks\n",
    "Los notebooks de Python proveen un ambiente interactivo para experimentación de código, visualización y publicación de resultados.\n",
    "\n",
    "Las casillas de color gris claro que se encuentran a continuación se denominan celdas y estas pueden contener código (code) o texto formateado (Markdown).\n",
    "\n",
    "* [Flechas arriba / abajo] Mover arriba y abajo de celda a celda.\n",
    "* [Enter] Ingresa una celda para editarla.\n",
    "* [Shift + Enter] Evalúa una celda, muestra el resultado y pasa a la siguiente celda.\n",
    "* [Ctrl + Enter] Evalúa una celda, muestra el resultado y permanece en la celda.\n",
    "* [Alt + Enter] Evalúa una celda, muestra el resultado e inserta una celda abajo.\n",
    "* [Esc] - [D] - [D] Eliminar una celda.\n",
    "* [Esc] - [Z] Deshacer eliminar una celda.\n",
    "* [Esc] - [B] Insertar una celda debajo de la celda actual.\n",
    "* [Esc] - [A] Insertar una celda sobre la celda actual.\n",
    "* [Esc] - [M] Convierte la celda de código en markdown.\n",
    "* [Esc] - [Y] Convierte la celda de Markdown a código.\n",
    "\n",
    "Para más atajos de teclado vaya al menú Ayuda -> Atajos de teclado"
   ]
  },
  {
   "cell_type": "markdown",
   "metadata": {
    "colab_type": "text",
    "id": "sXKKKcpE9oUB"
   },
   "source": [
    "## Variables en Python\n",
    "\n",
    "**Variable**: Es donde se guarda determinada información (texto, números, booleanas, etc.)\n",
    "\n",
    "Cada variable tiene un nombre para referirse a ella, Python tiene en cuenta si escribimos en mayúsculas o minúsculas la variable (case sensitive).\n",
    "\n",
    "Para definir variables en Python se realiza de la siguiente manera:\n",
    "\n",
    "```python\n",
    "# Asignando un valor\n",
    "variable = valor\n",
    "# Asignando varios valores\n",
    "variable1, variable2 = valor1, valor2\n",
    "```\n",
    "\n",
    "Python al asignar la variable define cual es el tipo de datos más apropiado.  \n",
    "\n",
    "### Números\n",
    "\n",
    "En números hay dos tipos principales, los números enteros (int) y los reales (float).  El separador decimal es el punto.\n",
    "\n",
    "```python\n",
    "entero = 2\n",
    "real = 2.5\n",
    "```\n",
    "\n",
    "### Texto\n",
    "\n",
    "Las variables que almacenan texto se denominan strings (str).  Se deben de poner entre commillas sencillas o dobles, si el texto es multilinea con triple comilla.\n",
    "\n",
    "```python\n",
    "cadena = \"Hola\"\n",
    "cadena = 'Hola'\n",
    "multilinea = \"\"\" Hola\n",
    "                Mundo \"\"\"\n",
    "multilinea = ''' Hola\n",
    "                Mundo '''             \n",
    "```\n",
    "\n",
    "### Listas\n",
    "\n",
    "Son conjuntos ordenados de elementos (números, texto, listas, etc). Se delimitan por corchetes (`[]`) y los elementos se separan por comas. Las listas son dinamicas, es decir que son mutables.\n",
    "\n",
    "```python\n",
    "listaNumeros = [1,2,3]\n",
    "listaCadenas = ['a','b','c']\n",
    "listaListas = [[1,2],[3,4],[5,6]]\n",
    "listaMixtas = [1,'Grupo',[1,2,3,4]]\n",
    "listaVacia = []\n",
    "```\n",
    "\n",
    "### Tuplas\n",
    "\n",
    "Es un conjunto ordenado e inmutable de elementos del mismo o diferente tipo. Las tuplas se representan escribiendo los elementos entre paréntesis (`()`) y separados por comas. Las tuplas son estaticas, son inmutables, una vez creada no puede ser modificada.\n",
    "\n",
    "```python\n",
    "tuplaNumeros = (1,2,3)\n",
    "tuplaCadenas = ('a','b','c')\n",
    "tuplaListas = ([1,2],[3,4],[5,6])\n",
    "tuplaMixtas = (1,'Grupo',[1,2,3,4])\n",
    "```\n",
    "\n",
    "### Diccionarios\n",
    "\n",
    "Permite almacenar cualquier tipo de valor como enteros, cadenas, listas, etc.  Los diccionarios permiten además identificar cada elemento por una clave (key)\n",
    "\n",
    "```python\n",
    "dictNumeros = {'k1':1,'k2':2}\n",
    "dictCadenas = {'k1':'a','k2':'b','k3':'c'}\n",
    "dictListas = {'k1':[1,2],'k2':[3,4],'k3':[5,6]}\n",
    "dictMixto = {'k1':1,'k2':'Grupo','k3':[1,2,3,4]}\n",
    "```\n",
    "\n",
    "### Booleano\n",
    "\n",
    "Una variable booleana es una variable que sólo puede tomar dos posibles valores: Verdadero (True) o Falso (False).\n",
    "\n",
    "```python\n",
    "verdadero = True\n",
    "falso = False\n",
    "```\n",
    "\n",
    "### None\n",
    "\n",
    "Es el tipo de dato que en otros lenguajes se conoce como Nulo (NAN).  En Python es NoneType.\n",
    "\n",
    "```python\n",
    "nulo = None\n",
    "```\n",
    "\n",
    "### Imprimir variables\n",
    "\n",
    "El comando `print(variable)` imprime el valor de la variable.\n",
    "\n",
    "\n",
    "### Comentarios\n",
    "\n",
    "Los comentarios en linea se define con `#`"
   ]
  },
  {
   "cell_type": "code",
   "execution_count": 1,
   "metadata": {
    "colab": {
     "base_uri": "https://localhost:8080/",
     "height": 34
    },
    "colab_type": "code",
    "executionInfo": {
     "elapsed": 989,
     "status": "ok",
     "timestamp": 1591055798912,
     "user": {
      "displayName": "Ana Lopez",
      "photoUrl": "https://lh3.googleusercontent.com/a-/AOh14Gj1dkF5QHwdzo0ygY_LrTIzktyfsXlogjzGema4=s64",
      "userId": "15130352723004509221"
     },
     "user_tz": 300
    },
    "id": "BFipE-Vt9n-3",
    "outputId": "8c23f0d5-4428-40ad-fc2b-7394054cfcf4"
   },
   "outputs": [
    {
     "name": "stdout",
     "output_type": "stream",
     "text": [
      "Es un entero:  2\n"
     ]
    }
   ],
   "source": [
    "# Declarando un entero (int)\n",
    "x = 2\n",
    "print(\"Es un entero: \", x)"
   ]
  },
  {
   "cell_type": "code",
   "execution_count": 2,
   "metadata": {
    "colab": {
     "base_uri": "https://localhost:8080/",
     "height": 34
    },
    "colab_type": "code",
    "executionInfo": {
     "elapsed": 980,
     "status": "ok",
     "timestamp": 1591055798914,
     "user": {
      "displayName": "Ana Lopez",
      "photoUrl": "https://lh3.googleusercontent.com/a-/AOh14Gj1dkF5QHwdzo0ygY_LrTIzktyfsXlogjzGema4=s64",
      "userId": "15130352723004509221"
     },
     "user_tz": 300
    },
    "id": "Okg6MQ0Wcxt_",
    "outputId": "f75ab34d-b92d-4dbc-96e5-d35a47b4a5ce"
   },
   "outputs": [
    {
     "data": {
      "text/plain": [
       "2"
      ]
     },
     "execution_count": 2,
     "metadata": {},
     "output_type": "execute_result"
    }
   ],
   "source": [
    "x"
   ]
  },
  {
   "cell_type": "code",
   "execution_count": 3,
   "metadata": {
    "colab": {
     "base_uri": "https://localhost:8080/",
     "height": 34
    },
    "colab_type": "code",
    "executionInfo": {
     "elapsed": 975,
     "status": "ok",
     "timestamp": 1591055798915,
     "user": {
      "displayName": "Ana Lopez",
      "photoUrl": "https://lh3.googleusercontent.com/a-/AOh14Gj1dkF5QHwdzo0ygY_LrTIzktyfsXlogjzGema4=s64",
      "userId": "15130352723004509221"
     },
     "user_tz": 300
    },
    "id": "9PwUJ1adFreY",
    "outputId": "6a434a60-6c42-40f1-f8ae-35bd23727c1a"
   },
   "outputs": [
    {
     "name": "stdout",
     "output_type": "stream",
     "text": [
      "Es un real:  2.5\n"
     ]
    }
   ],
   "source": [
    "# Declarando un real (float)\n",
    "y = 2.5\n",
    "print(\"Es un real: \", y)"
   ]
  },
  {
   "cell_type": "code",
   "execution_count": 4,
   "metadata": {
    "colab": {
     "base_uri": "https://localhost:8080/",
     "height": 51
    },
    "colab_type": "code",
    "executionInfo": {
     "elapsed": 971,
     "status": "ok",
     "timestamp": 1591055798916,
     "user": {
      "displayName": "Ana Lopez",
      "photoUrl": "https://lh3.googleusercontent.com/a-/AOh14Gj1dkF5QHwdzo0ygY_LrTIzktyfsXlogjzGema4=s64",
      "userId": "15130352723004509221"
     },
     "user_tz": 300
    },
    "id": "F_m4IRhqEo9r",
    "outputId": "d448345b-d879-42bc-8385-91d8ee5589ad"
   },
   "outputs": [
    {
     "name": "stdout",
     "output_type": "stream",
     "text": [
      "Hola Mundo  Grupo\n",
      "Hola Mundo  Grupo\n"
     ]
    }
   ],
   "source": [
    "# Declarando un texto\n",
    "mensaje = \"Hola Mundo\"\n",
    "print(mensaje, \" Grupo\")\n",
    "mensaje = 'Hola Mundo'\n",
    "print(mensaje, \" Grupo\")"
   ]
  },
  {
   "cell_type": "code",
   "execution_count": 5,
   "metadata": {
    "colab": {
     "base_uri": "https://localhost:8080/",
     "height": 85
    },
    "colab_type": "code",
    "executionInfo": {
     "elapsed": 968,
     "status": "ok",
     "timestamp": 1591055798917,
     "user": {
      "displayName": "Ana Lopez",
      "photoUrl": "https://lh3.googleusercontent.com/a-/AOh14Gj1dkF5QHwdzo0ygY_LrTIzktyfsXlogjzGema4=s64",
      "userId": "15130352723004509221"
     },
     "user_tz": 300
    },
    "id": "Ef0qUaAE9Qg-",
    "outputId": "cd22a2f5-c564-47b9-f7b5-f1c4994535df"
   },
   "outputs": [
    {
     "name": "stdout",
     "output_type": "stream",
     "text": [
      "Hola \n",
      "                Mundo  Grupo\n",
      "Hola \n",
      "                Mundo  Grupo\n"
     ]
    }
   ],
   "source": [
    "# Multilinea\n",
    "multilinea = \"\"\"Hola \n",
    "                Mundo\"\"\"\n",
    "print(multilinea, \" Grupo\")\n",
    "multilinea = '''Hola \n",
    "                Mundo'''\n",
    "print(multilinea, \" Grupo\")"
   ]
  },
  {
   "cell_type": "code",
   "execution_count": 6,
   "metadata": {
    "colab": {
     "base_uri": "https://localhost:8080/",
     "height": 34
    },
    "colab_type": "code",
    "executionInfo": {
     "elapsed": 965,
     "status": "ok",
     "timestamp": 1591055798918,
     "user": {
      "displayName": "Ana Lopez",
      "photoUrl": "https://lh3.googleusercontent.com/a-/AOh14Gj1dkF5QHwdzo0ygY_LrTIzktyfsXlogjzGema4=s64",
      "userId": "15130352723004509221"
     },
     "user_tz": 300
    },
    "id": "eo2ybr55dFy1",
    "outputId": "a3795dde-572f-4f3c-a682-e804495a3d77"
   },
   "outputs": [
    {
     "data": {
      "text/plain": [
       "'Hola \\n                Mundo'"
      ]
     },
     "execution_count": 6,
     "metadata": {},
     "output_type": "execute_result"
    }
   ],
   "source": [
    "multilinea"
   ]
  },
  {
   "cell_type": "code",
   "execution_count": 7,
   "metadata": {
    "colab": {
     "base_uri": "https://localhost:8080/",
     "height": 102
    },
    "colab_type": "code",
    "executionInfo": {
     "elapsed": 961,
     "status": "ok",
     "timestamp": 1591055798919,
     "user": {
      "displayName": "Ana Lopez",
      "photoUrl": "https://lh3.googleusercontent.com/a-/AOh14Gj1dkF5QHwdzo0ygY_LrTIzktyfsXlogjzGema4=s64",
      "userId": "15130352723004509221"
     },
     "user_tz": 300
    },
    "id": "4TeMiF79RuWZ",
    "outputId": "540f03a9-6b49-4cb2-c40b-5394ca949a5d"
   },
   "outputs": [
    {
     "name": "stdout",
     "output_type": "stream",
     "text": [
      "[1, 2, 3]\n",
      "['a', 'b', 'c']\n",
      "[[1, 2], [3, 4], [5, 6]]\n",
      "[1, 'Grupo', [1, 2, 3, 4]]\n",
      "[]\n"
     ]
    }
   ],
   "source": [
    "# Declarando una lista\n",
    "listaNumeros = [1,2,3]\n",
    "print(listaNumeros)\n",
    "listaCadenas = ['a','b','c']\n",
    "print(listaCadenas)\n",
    "listaListas = [[1,2],[3,4],[5,6]]\n",
    "print(listaListas)\n",
    "listaMixtas = [1,'Grupo',[1,2,3,4]]\n",
    "print(listaMixtas)\n",
    "listaVacia = []\n",
    "print(listaVacia)"
   ]
  },
  {
   "cell_type": "code",
   "execution_count": 8,
   "metadata": {
    "colab": {
     "base_uri": "https://localhost:8080/",
     "height": 85
    },
    "colab_type": "code",
    "executionInfo": {
     "elapsed": 1425,
     "status": "ok",
     "timestamp": 1591055799386,
     "user": {
      "displayName": "Ana Lopez",
      "photoUrl": "https://lh3.googleusercontent.com/a-/AOh14Gj1dkF5QHwdzo0ygY_LrTIzktyfsXlogjzGema4=s64",
      "userId": "15130352723004509221"
     },
     "user_tz": 300
    },
    "id": "-vZwr-fiSElu",
    "outputId": "9a94995d-bae4-4978-8bcb-ad973b6b6223"
   },
   "outputs": [
    {
     "name": "stdout",
     "output_type": "stream",
     "text": [
      "(1, 2, 3)\n",
      "('a', 'b', 'c')\n",
      "([1, 2], [3, 4], [5, 6])\n",
      "(1, 'Grupo', [1, 2, 3, 4])\n"
     ]
    }
   ],
   "source": [
    "# Declarando una Tupla\n",
    "tuplaNumeros = (1,2,3)\n",
    "print(tuplaNumeros)\n",
    "tuplaCadenas = ('a','b','c')\n",
    "print(tuplaCadenas)\n",
    "tuplaListas = ([1,2],[3,4],[5,6])\n",
    "print(tuplaListas)\n",
    "tuplaMixtas = (1,'Grupo',[1,2,3,4])\n",
    "print(tuplaMixtas)"
   ]
  },
  {
   "cell_type": "code",
   "execution_count": 9,
   "metadata": {
    "colab": {
     "base_uri": "https://localhost:8080/",
     "height": 85
    },
    "colab_type": "code",
    "executionInfo": {
     "elapsed": 1423,
     "status": "ok",
     "timestamp": 1591055799388,
     "user": {
      "displayName": "Ana Lopez",
      "photoUrl": "https://lh3.googleusercontent.com/a-/AOh14Gj1dkF5QHwdzo0ygY_LrTIzktyfsXlogjzGema4=s64",
      "userId": "15130352723004509221"
     },
     "user_tz": 300
    },
    "id": "eEfYQVO0QUK0",
    "outputId": "c085f6c3-f512-4ab6-8e99-4074510d1fc5"
   },
   "outputs": [
    {
     "name": "stdout",
     "output_type": "stream",
     "text": [
      "{'k1': 1, 'k2': 2}\n",
      "{'k1': 'a', 'k2': 'b', 'k3': 'c'}\n",
      "{'k1': [1, 2], 'k2': [3, 4], 'k3': [5, 6]}\n",
      "{'k1': 1, 'k2': 'Grupo', 'k3': [1, 2, 3, 4]}\n"
     ]
    }
   ],
   "source": [
    "# Declarando Diccionarios\n",
    "dictNumeros = {'k1':1,'k2':2}\n",
    "print(dictNumeros)\n",
    "dictCadenas = {'k1':'a','k2':'b','k3':'c'}\n",
    "print(dictCadenas)\n",
    "dictListas = {'k1':[1,2],'k2':[3,4],'k3':[5,6]}\n",
    "print(dictListas)\n",
    "dictMixto = {'k1':1,'k2':'Grupo','k3':[1,2,3,4]}\n",
    "print(dictMixto)"
   ]
  },
  {
   "cell_type": "code",
   "execution_count": 10,
   "metadata": {
    "colab": {},
    "colab_type": "code",
    "id": "XVxY6TvdT3Wq"
   },
   "outputs": [],
   "source": [
    "# Declarando Booleanos\n",
    "verdadero = True\n",
    "falso = False"
   ]
  },
  {
   "cell_type": "code",
   "execution_count": 11,
   "metadata": {
    "colab": {},
    "colab_type": "code",
    "id": "EkoVYvtxV1HE"
   },
   "outputs": [],
   "source": [
    "# Declarando Nulos\n",
    "nulo = None"
   ]
  },
  {
   "cell_type": "code",
   "execution_count": 12,
   "metadata": {
    "colab": {
     "base_uri": "https://localhost:8080/",
     "height": 68
    },
    "colab_type": "code",
    "executionInfo": {
     "elapsed": 1416,
     "status": "ok",
     "timestamp": 1591055799392,
     "user": {
      "displayName": "Ana Lopez",
      "photoUrl": "https://lh3.googleusercontent.com/a-/AOh14Gj1dkF5QHwdzo0ygY_LrTIzktyfsXlogjzGema4=s64",
      "userId": "15130352723004509221"
     },
     "user_tz": 300
    },
    "id": "ePanpd5_yuvs",
    "outputId": "4a0c8cab-9b55-420d-be10-10e9f697b6e6"
   },
   "outputs": [
    {
     "name": "stdout",
     "output_type": "stream",
     "text": [
      "var1 = 9\n",
      "var2 = Sara\n",
      "var3 = [13, 17, 23]\n"
     ]
    }
   ],
   "source": [
    "# Asignaciones Múltiples\n",
    "var1, var2, var3 =  ( 5 + 4),  \"Sara\", [13, 17, 23]\n",
    "print( \"var1 =\", var1 )\n",
    "print( \"var2 =\", var2 )\n",
    "print( \"var3 =\", var3 )"
   ]
  },
  {
   "cell_type": "code",
   "execution_count": 13,
   "metadata": {
    "colab": {
     "base_uri": "https://localhost:8080/",
     "height": 51
    },
    "colab_type": "code",
    "executionInfo": {
     "elapsed": 1412,
     "status": "ok",
     "timestamp": 1591055799393,
     "user": {
      "displayName": "Ana Lopez",
      "photoUrl": "https://lh3.googleusercontent.com/a-/AOh14Gj1dkF5QHwdzo0ygY_LrTIzktyfsXlogjzGema4=s64",
      "userId": "15130352723004509221"
     },
     "user_tz": 300
    },
    "id": "ng7xqXo1y1OK",
    "outputId": "ebfc7d29-5054-4cd7-ac7f-4fb6033d1345"
   },
   "outputs": [
    {
     "name": "stdout",
     "output_type": "stream",
     "text": [
      "var1 = Sara\n",
      "var2 = 9\n"
     ]
    }
   ],
   "source": [
    "# Cambiar valores entre variables\n",
    "var1, var2 = var2, var1 \n",
    "\n",
    "print( \"var1 =\", var1 )\n",
    "print( \"var2 =\", var2 )"
   ]
  },
  {
   "cell_type": "code",
   "execution_count": 14,
   "metadata": {
    "colab": {
     "base_uri": "https://localhost:8080/",
     "height": 34
    },
    "colab_type": "code",
    "executionInfo": {
     "elapsed": 923,
     "status": "ok",
     "timestamp": 1591055799394,
     "user": {
      "displayName": "Ana Lopez",
      "photoUrl": "https://lh3.googleusercontent.com/a-/AOh14Gj1dkF5QHwdzo0ygY_LrTIzktyfsXlogjzGema4=s64",
      "userId": "15130352723004509221"
     },
     "user_tz": 300
    },
    "id": "lzYcQo3xy3X1",
    "outputId": "9725b47c-c6e2-4f5e-88e3-3ee80fe4b2d9"
   },
   "outputs": [
    {
     "name": "stdout",
     "output_type": "stream",
     "text": [
      "('Sara', 9, [13, 17, 23])\n"
     ]
    }
   ],
   "source": [
    "# Crear una tupla con variables\n",
    "tupla = var1, var2, var3\n",
    "print(tupla)"
   ]
  },
  {
   "cell_type": "code",
   "execution_count": 15,
   "metadata": {
    "colab": {
     "base_uri": "https://localhost:8080/",
     "height": 34
    },
    "colab_type": "code",
    "executionInfo": {
     "elapsed": 688,
     "status": "ok",
     "timestamp": 1591055799845,
     "user": {
      "displayName": "Ana Lopez",
      "photoUrl": "https://lh3.googleusercontent.com/a-/AOh14Gj1dkF5QHwdzo0ygY_LrTIzktyfsXlogjzGema4=s64",
      "userId": "15130352723004509221"
     },
     "user_tz": 300
    },
    "id": "xmychpyTzbpH",
    "outputId": "86d544da-da77-4151-96ae-9e680620f00a"
   },
   "outputs": [
    {
     "name": "stdout",
     "output_type": "stream",
     "text": [
      "  x1 = Sara    x2 = 9    x3 = [13, 17, 23]\n"
     ]
    }
   ],
   "source": [
    "# Asignar valores de una tupla a variables\n",
    "x1, x2, x3 = tupla \n",
    "\n",
    "print( \"  x1 =\", x1, \"   x2 =\", x2, \"   x3 =\", x3 )"
   ]
  },
  {
   "cell_type": "markdown",
   "metadata": {
    "colab_type": "text",
    "id": "4oeZ9NOVSrCp"
   },
   "source": [
    "## Tipo de Datos\n",
    "\n",
    "Para conocer el tipo de dato de una variable se usa el metodo `type`\n",
    "\n",
    "```python\n",
    "type(x)\n",
    "````"
   ]
  },
  {
   "cell_type": "code",
   "execution_count": 16,
   "metadata": {
    "colab": {
     "base_uri": "https://localhost:8080/",
     "height": 51
    },
    "colab_type": "code",
    "executionInfo": {
     "elapsed": 732,
     "status": "ok",
     "timestamp": 1591055807975,
     "user": {
      "displayName": "Ana Lopez",
      "photoUrl": "https://lh3.googleusercontent.com/a-/AOh14Gj1dkF5QHwdzo0ygY_LrTIzktyfsXlogjzGema4=s64",
      "userId": "15130352723004509221"
     },
     "user_tz": 300
    },
    "id": "3YewJ_loS_Ia",
    "outputId": "66b6d095-f7a6-4709-8c81-2eeb09dd0be9"
   },
   "outputs": [
    {
     "name": "stdout",
     "output_type": "stream",
     "text": [
      "2\n"
     ]
    },
    {
     "data": {
      "text/plain": [
       "int"
      ]
     },
     "execution_count": 16,
     "metadata": {},
     "output_type": "execute_result"
    }
   ],
   "source": [
    "print(x)\n",
    "type(x)"
   ]
  },
  {
   "cell_type": "code",
   "execution_count": 17,
   "metadata": {
    "colab": {
     "base_uri": "https://localhost:8080/",
     "height": 51
    },
    "colab_type": "code",
    "executionInfo": {
     "elapsed": 771,
     "status": "ok",
     "timestamp": 1591055814715,
     "user": {
      "displayName": "Ana Lopez",
      "photoUrl": "https://lh3.googleusercontent.com/a-/AOh14Gj1dkF5QHwdzo0ygY_LrTIzktyfsXlogjzGema4=s64",
      "userId": "15130352723004509221"
     },
     "user_tz": 300
    },
    "id": "G-4cFZyOTCnn",
    "outputId": "0ab8ff11-d7b9-4207-ffe6-1baca79c6f44"
   },
   "outputs": [
    {
     "name": "stdout",
     "output_type": "stream",
     "text": [
      "2.5\n"
     ]
    },
    {
     "data": {
      "text/plain": [
       "float"
      ]
     },
     "execution_count": 17,
     "metadata": {},
     "output_type": "execute_result"
    }
   ],
   "source": [
    "print(y)\n",
    "type(y)"
   ]
  },
  {
   "cell_type": "code",
   "execution_count": 18,
   "metadata": {
    "colab": {
     "base_uri": "https://localhost:8080/",
     "height": 34
    },
    "colab_type": "code",
    "executionInfo": {
     "elapsed": 806,
     "status": "ok",
     "timestamp": 1591055818606,
     "user": {
      "displayName": "Ana Lopez",
      "photoUrl": "https://lh3.googleusercontent.com/a-/AOh14Gj1dkF5QHwdzo0ygY_LrTIzktyfsXlogjzGema4=s64",
      "userId": "15130352723004509221"
     },
     "user_tz": 300
    },
    "id": "2f0ISTp8TMQ9",
    "outputId": "8cdff5f8-e1b6-49f4-dae2-39de465a04ac"
   },
   "outputs": [
    {
     "data": {
      "text/plain": [
       "str"
      ]
     },
     "execution_count": 18,
     "metadata": {},
     "output_type": "execute_result"
    }
   ],
   "source": [
    "type(mensaje)"
   ]
  },
  {
   "cell_type": "code",
   "execution_count": 19,
   "metadata": {
    "colab": {},
    "colab_type": "code",
    "id": "EElQqkS5TDrA"
   },
   "outputs": [
    {
     "data": {
      "text/plain": [
       "list"
      ]
     },
     "execution_count": 19,
     "metadata": {},
     "output_type": "execute_result"
    }
   ],
   "source": [
    "type(listaNumeros)"
   ]
  },
  {
   "cell_type": "code",
   "execution_count": 20,
   "metadata": {
    "colab": {},
    "colab_type": "code",
    "id": "h3vxZvYHTFv0"
   },
   "outputs": [
    {
     "data": {
      "text/plain": [
       "tuple"
      ]
     },
     "execution_count": 20,
     "metadata": {},
     "output_type": "execute_result"
    }
   ],
   "source": [
    "type(tuplaListas)"
   ]
  },
  {
   "cell_type": "code",
   "execution_count": 21,
   "metadata": {
    "colab": {},
    "colab_type": "code",
    "id": "htItuqj8THum"
   },
   "outputs": [
    {
     "data": {
      "text/plain": [
       "dict"
      ]
     },
     "execution_count": 21,
     "metadata": {},
     "output_type": "execute_result"
    }
   ],
   "source": [
    "type(dictCadenas)"
   ]
  },
  {
   "cell_type": "code",
   "execution_count": 22,
   "metadata": {
    "colab": {},
    "colab_type": "code",
    "id": "Nw0sMJ5jTKP5"
   },
   "outputs": [
    {
     "data": {
      "text/plain": [
       "bool"
      ]
     },
     "execution_count": 22,
     "metadata": {},
     "output_type": "execute_result"
    }
   ],
   "source": [
    "type(verdadero)"
   ]
  },
  {
   "cell_type": "code",
   "execution_count": 23,
   "metadata": {
    "colab": {},
    "colab_type": "code",
    "id": "KAUkTMqlT_zw"
   },
   "outputs": [
    {
     "data": {
      "text/plain": [
       "NoneType"
      ]
     },
     "execution_count": 23,
     "metadata": {},
     "output_type": "execute_result"
    }
   ],
   "source": [
    "type(nulo)"
   ]
  },
  {
   "cell_type": "markdown",
   "metadata": {
    "colab_type": "text",
    "id": "QXww97zYV-tL"
   },
   "source": [
    "## Operadores Aritméticos\n",
    "\n",
    "| Symbol | Task Performed |\n",
    "|----|---|\n",
    "| +  | Addition |\n",
    "| -  | Subtraction |\n",
    "| /  | division |\n",
    "| %  | mod |\n",
    "| *  | multiplication |\n",
    "| //  | floor division |\n",
    "| **  | exponentiation |\n",
    "| ~   | negation |\n",
    "\n",
    "Python dependiendo del tipo de dato realiza las operaciones."
   ]
  },
  {
   "cell_type": "code",
   "execution_count": 24,
   "metadata": {
    "colab": {
     "base_uri": "https://localhost:8080/",
     "height": 51
    },
    "colab_type": "code",
    "executionInfo": {
     "elapsed": 1226,
     "status": "ok",
     "timestamp": 1591055848119,
     "user": {
      "displayName": "Ana Lopez",
      "photoUrl": "https://lh3.googleusercontent.com/a-/AOh14Gj1dkF5QHwdzo0ygY_LrTIzktyfsXlogjzGema4=s64",
      "userId": "15130352723004509221"
     },
     "user_tz": 300
    },
    "id": "SIaOq1g5V407",
    "outputId": "584bb407-01c7-4110-fcbc-d1bac49362ce"
   },
   "outputs": [
    {
     "name": "stdout",
     "output_type": "stream",
     "text": [
      "10\n",
      "0\n"
     ]
    }
   ],
   "source": [
    "# Adición y sustracción\n",
    "print(5 + 5)\n",
    "print(5 - 5)"
   ]
  },
  {
   "cell_type": "code",
   "execution_count": 25,
   "metadata": {
    "colab": {
     "base_uri": "https://localhost:8080/",
     "height": 51
    },
    "colab_type": "code",
    "executionInfo": {
     "elapsed": 667,
     "status": "ok",
     "timestamp": 1591055850405,
     "user": {
      "displayName": "Ana Lopez",
      "photoUrl": "https://lh3.googleusercontent.com/a-/AOh14Gj1dkF5QHwdzo0ygY_LrTIzktyfsXlogjzGema4=s64",
      "userId": "15130352723004509221"
     },
     "user_tz": 300
    },
    "id": "lMphMtfOWXRj",
    "outputId": "9302294d-e8be-4980-e8f5-d35e514ddac0"
   },
   "outputs": [
    {
     "name": "stdout",
     "output_type": "stream",
     "text": [
      "15\n",
      "5.0\n"
     ]
    }
   ],
   "source": [
    "# Multiplicación y división\n",
    "print(3 * 5)\n",
    "print(10 / 2)"
   ]
  },
  {
   "cell_type": "code",
   "execution_count": 26,
   "metadata": {
    "colab": {
     "base_uri": "https://localhost:8080/",
     "height": 51
    },
    "colab_type": "code",
    "executionInfo": {
     "elapsed": 467,
     "status": "ok",
     "timestamp": 1591055851358,
     "user": {
      "displayName": "Ana Lopez",
      "photoUrl": "https://lh3.googleusercontent.com/a-/AOh14Gj1dkF5QHwdzo0ygY_LrTIzktyfsXlogjzGema4=s64",
      "userId": "15130352723004509221"
     },
     "user_tz": 300
    },
    "id": "JthtByGXWZRX",
    "outputId": "e1553f1d-7e72-469d-b559-d76ba7dafc6a"
   },
   "outputs": [
    {
     "name": "stdout",
     "output_type": "stream",
     "text": [
      "16\n",
      "4\n"
     ]
    }
   ],
   "source": [
    "# Exponenciación y Modulo\n",
    "print(4 ** 2)\n",
    "print(18 % 7)"
   ]
  },
  {
   "cell_type": "code",
   "execution_count": 27,
   "metadata": {
    "colab": {
     "base_uri": "https://localhost:8080/",
     "height": 34
    },
    "colab_type": "code",
    "executionInfo": {
     "elapsed": 689,
     "status": "ok",
     "timestamp": 1591055856987,
     "user": {
      "displayName": "Ana Lopez",
      "photoUrl": "https://lh3.googleusercontent.com/a-/AOh14Gj1dkF5QHwdzo0ygY_LrTIzktyfsXlogjzGema4=s64",
      "userId": "15130352723004509221"
     },
     "user_tz": 300
    },
    "id": "QYBATeTNWbry",
    "outputId": "8cf5867d-c5e4-45e5-aae3-fdf8599a18b6"
   },
   "outputs": [
    {
     "name": "stdout",
     "output_type": "stream",
     "text": [
      "Hola Grupo\n"
     ]
    }
   ],
   "source": [
    "# Operaciones con cadenas\n",
    "mensaje1 = \"Hola \"\n",
    "mensaje2 = \"Grupo\"\n",
    "print(mensaje1 + mensaje2)"
   ]
  },
  {
   "cell_type": "code",
   "execution_count": 28,
   "metadata": {
    "colab": {
     "base_uri": "https://localhost:8080/",
     "height": 34
    },
    "colab_type": "code",
    "executionInfo": {
     "elapsed": 643,
     "status": "ok",
     "timestamp": 1591055861187,
     "user": {
      "displayName": "Ana Lopez",
      "photoUrl": "https://lh3.googleusercontent.com/a-/AOh14Gj1dkF5QHwdzo0ygY_LrTIzktyfsXlogjzGema4=s64",
      "userId": "15130352723004509221"
     },
     "user_tz": 300
    },
    "id": "Fo_L_km3vFk2",
    "outputId": "909160dc-d77e-4c33-e441-46a287a18bd4"
   },
   "outputs": [
    {
     "name": "stdout",
     "output_type": "stream",
     "text": [
      "Hola Hola \n"
     ]
    }
   ],
   "source": [
    "# Operaciones con cadenas\n",
    "mensaje1 = \"Hola \"\n",
    "print(mensaje1*2)"
   ]
  },
  {
   "cell_type": "code",
   "execution_count": 29,
   "metadata": {
    "colab": {
     "base_uri": "https://localhost:8080/",
     "height": 34
    },
    "colab_type": "code",
    "executionInfo": {
     "elapsed": 690,
     "status": "ok",
     "timestamp": 1591055885105,
     "user": {
      "displayName": "Ana Lopez",
      "photoUrl": "https://lh3.googleusercontent.com/a-/AOh14Gj1dkF5QHwdzo0ygY_LrTIzktyfsXlogjzGema4=s64",
      "userId": "15130352723004509221"
     },
     "user_tz": 300
    },
    "id": "okHLoEPPe_6_",
    "outputId": "4162e9d0-abe5-4bea-a6f2-e0875d64d8d5"
   },
   "outputs": [
    {
     "name": "stdout",
     "output_type": "stream",
     "text": [
      "1\n"
     ]
    }
   ],
   "source": [
    "print(verdadero + falso)"
   ]
  },
  {
   "cell_type": "code",
   "execution_count": 30,
   "metadata": {
    "colab": {
     "base_uri": "https://localhost:8080/",
     "height": 34
    },
    "colab_type": "code",
    "executionInfo": {
     "elapsed": 695,
     "status": "ok",
     "timestamp": 1591055893991,
     "user": {
      "displayName": "Ana Lopez",
      "photoUrl": "https://lh3.googleusercontent.com/a-/AOh14Gj1dkF5QHwdzo0ygY_LrTIzktyfsXlogjzGema4=s64",
      "userId": "15130352723004509221"
     },
     "user_tz": 300
    },
    "id": "JfFkdW_QfGI1",
    "outputId": "d74e1ae6-cd75-41f7-9bf9-345197784b05"
   },
   "outputs": [
    {
     "name": "stdout",
     "output_type": "stream",
     "text": [
      "3.5\n"
     ]
    }
   ],
   "source": [
    "print(1 + 2.5)"
   ]
  },
  {
   "cell_type": "markdown",
   "metadata": {
    "colab_type": "text",
    "id": "ewhJQUd1xIzk"
   },
   "source": [
    "## Operadores Relacionales\n",
    "\n",
    "| Symbol | Task Performed |\n",
    "|----|---|\n",
    "| == | True, if values are equal |\n",
    "| is | True, if identical, i.e. the **same** object  |\n",
    "| !=  | True, if not equal to |\n",
    "| < | less than |\n",
    "| > | greater than |\n",
    "| <=  | less than or equal to |\n",
    "| >=  | greater than or equal to |\n",
    "| in  | test pertenence to a collection (list, set, dictionary) |"
   ]
  },
  {
   "cell_type": "code",
   "execution_count": 26,
   "metadata": {
    "colab": {
     "base_uri": "https://localhost:8080/",
     "height": 34
    },
    "colab_type": "code",
    "executionInfo": {
     "elapsed": 648,
     "status": "ok",
     "timestamp": 1591055922752,
     "user": {
      "displayName": "Ana Lopez",
      "photoUrl": "https://lh3.googleusercontent.com/a-/AOh14Gj1dkF5QHwdzo0ygY_LrTIzktyfsXlogjzGema4=s64",
      "userId": "15130352723004509221"
     },
     "user_tz": 300
    },
    "id": "DX7u7Bwuvqju",
    "outputId": "6f025068-eb3a-4676-fd2a-7e8bdd44005a"
   },
   "outputs": [
    {
     "data": {
      "text/plain": [
       "True"
      ]
     },
     "execution_count": 26,
     "metadata": {
      "tags": []
     },
     "output_type": "execute_result"
    }
   ],
   "source": [
    "x == 2"
   ]
  },
  {
   "cell_type": "code",
   "execution_count": 27,
   "metadata": {
    "colab": {
     "base_uri": "https://localhost:8080/",
     "height": 34
    },
    "colab_type": "code",
    "executionInfo": {
     "elapsed": 680,
     "status": "ok",
     "timestamp": 1591055934337,
     "user": {
      "displayName": "Ana Lopez",
      "photoUrl": "https://lh3.googleusercontent.com/a-/AOh14Gj1dkF5QHwdzo0ygY_LrTIzktyfsXlogjzGema4=s64",
      "userId": "15130352723004509221"
     },
     "user_tz": 300
    },
    "id": "_ePQNuWsxVyn",
    "outputId": "477d9b0a-446a-406b-d17b-eca01f5b5e3c"
   },
   "outputs": [
    {
     "data": {
      "text/plain": [
       "False"
      ]
     },
     "execution_count": 27,
     "metadata": {
      "tags": []
     },
     "output_type": "execute_result"
    }
   ],
   "source": [
    "x != 2"
   ]
  },
  {
   "cell_type": "code",
   "execution_count": 28,
   "metadata": {
    "colab": {
     "base_uri": "https://localhost:8080/",
     "height": 34
    },
    "colab_type": "code",
    "executionInfo": {
     "elapsed": 818,
     "status": "ok",
     "timestamp": 1591055950920,
     "user": {
      "displayName": "Ana Lopez",
      "photoUrl": "https://lh3.googleusercontent.com/a-/AOh14Gj1dkF5QHwdzo0ygY_LrTIzktyfsXlogjzGema4=s64",
      "userId": "15130352723004509221"
     },
     "user_tz": 300
    },
    "id": "o0sZeceWxe1q",
    "outputId": "45ad226b-1e72-4068-e7ad-1c20d485dda4"
   },
   "outputs": [
    {
     "data": {
      "text/plain": [
       "True"
      ]
     },
     "execution_count": 28,
     "metadata": {
      "tags": []
     },
     "output_type": "execute_result"
    }
   ],
   "source": [
    "x > 1"
   ]
  },
  {
   "cell_type": "code",
   "execution_count": 29,
   "metadata": {
    "colab": {
     "base_uri": "https://localhost:8080/",
     "height": 34
    },
    "colab_type": "code",
    "executionInfo": {
     "elapsed": 667,
     "status": "ok",
     "timestamp": 1591055966461,
     "user": {
      "displayName": "Ana Lopez",
      "photoUrl": "https://lh3.googleusercontent.com/a-/AOh14Gj1dkF5QHwdzo0ygY_LrTIzktyfsXlogjzGema4=s64",
      "userId": "15130352723004509221"
     },
     "user_tz": 300
    },
    "id": "OMzRVPLCU0tY",
    "outputId": "9eaa568c-ea4c-425a-f022-7de2365e5d3f"
   },
   "outputs": [
    {
     "data": {
      "text/plain": [
       "[1, 2, 3]"
      ]
     },
     "execution_count": 29,
     "metadata": {
      "tags": []
     },
     "output_type": "execute_result"
    }
   ],
   "source": [
    "listaNumeros"
   ]
  },
  {
   "cell_type": "code",
   "execution_count": 30,
   "metadata": {
    "colab": {
     "base_uri": "https://localhost:8080/",
     "height": 34
    },
    "colab_type": "code",
    "executionInfo": {
     "elapsed": 721,
     "status": "ok",
     "timestamp": 1591055972012,
     "user": {
      "displayName": "Ana Lopez",
      "photoUrl": "https://lh3.googleusercontent.com/a-/AOh14Gj1dkF5QHwdzo0ygY_LrTIzktyfsXlogjzGema4=s64",
      "userId": "15130352723004509221"
     },
     "user_tz": 300
    },
    "id": "lSxRyT8yxhXl",
    "outputId": "7c012eef-f16f-44dc-f12b-d976f0edcd46"
   },
   "outputs": [
    {
     "data": {
      "text/plain": [
       "True"
      ]
     },
     "execution_count": 30,
     "metadata": {
      "tags": []
     },
     "output_type": "execute_result"
    }
   ],
   "source": [
    "listaNumeros == [1,2,3]"
   ]
  },
  {
   "cell_type": "code",
   "execution_count": 31,
   "metadata": {
    "colab": {
     "base_uri": "https://localhost:8080/",
     "height": 34
    },
    "colab_type": "code",
    "executionInfo": {
     "elapsed": 780,
     "status": "ok",
     "timestamp": 1591055974974,
     "user": {
      "displayName": "Ana Lopez",
      "photoUrl": "https://lh3.googleusercontent.com/a-/AOh14Gj1dkF5QHwdzo0ygY_LrTIzktyfsXlogjzGema4=s64",
      "userId": "15130352723004509221"
     },
     "user_tz": 300
    },
    "id": "7xANJ8z0yGiT",
    "outputId": "495ecfee-2f83-4f4c-af8b-63f98a9f08ec"
   },
   "outputs": [
    {
     "data": {
      "text/plain": [
       "False"
      ]
     },
     "execution_count": 31,
     "metadata": {
      "tags": []
     },
     "output_type": "execute_result"
    }
   ],
   "source": [
    "listaNumeros is [1,2,3]"
   ]
  },
  {
   "cell_type": "code",
   "execution_count": 0,
   "metadata": {
    "colab": {},
    "colab_type": "code",
    "id": "jYTQcIrQyNPO"
   },
   "outputs": [],
   "source": [
    "objecto = listaNumeros"
   ]
  },
  {
   "cell_type": "code",
   "execution_count": 33,
   "metadata": {
    "colab": {
     "base_uri": "https://localhost:8080/",
     "height": 34
    },
    "colab_type": "code",
    "executionInfo": {
     "elapsed": 687,
     "status": "ok",
     "timestamp": 1591056045035,
     "user": {
      "displayName": "Ana Lopez",
      "photoUrl": "https://lh3.googleusercontent.com/a-/AOh14Gj1dkF5QHwdzo0ygY_LrTIzktyfsXlogjzGema4=s64",
      "userId": "15130352723004509221"
     },
     "user_tz": 300
    },
    "id": "tcfMl4DkySoV",
    "outputId": "9467ec21-acee-45f1-812e-14dfb5b82317"
   },
   "outputs": [
    {
     "data": {
      "text/plain": [
       "True"
      ]
     },
     "execution_count": 33,
     "metadata": {
      "tags": []
     },
     "output_type": "execute_result"
    }
   ],
   "source": [
    "listaNumeros is objecto"
   ]
  },
  {
   "cell_type": "code",
   "execution_count": 34,
   "metadata": {
    "colab": {
     "base_uri": "https://localhost:8080/",
     "height": 34
    },
    "colab_type": "code",
    "executionInfo": {
     "elapsed": 718,
     "status": "ok",
     "timestamp": 1591056063622,
     "user": {
      "displayName": "Ana Lopez",
      "photoUrl": "https://lh3.googleusercontent.com/a-/AOh14Gj1dkF5QHwdzo0ygY_LrTIzktyfsXlogjzGema4=s64",
      "userId": "15130352723004509221"
     },
     "user_tz": 300
    },
    "id": "d0ukty2gyU_g",
    "outputId": "34a0ae05-b2b0-49af-834d-433b4649ca7d"
   },
   "outputs": [
    {
     "data": {
      "text/plain": [
       "True"
      ]
     },
     "execution_count": 34,
     "metadata": {
      "tags": []
     },
     "output_type": "execute_result"
    }
   ],
   "source": [
    "nulo is None"
   ]
  },
  {
   "cell_type": "markdown",
   "metadata": {
    "colab_type": "text",
    "id": "6wJlJ4wbzryr"
   },
   "source": [
    "## Conversiones entre tipos\n",
    "\n",
    "Python cuenta con la conversión de tipos de datos (*cast* o *casting*) que especifica explicitamente el tipo de dato.\n",
    "\n",
    "```python\n",
    "int(variable)\n",
    "float(variable)\n",
    "str(variable)\n",
    "bool(variable)\n",
    "list(variable)\n",
    "tuple(variable)\n",
    "dict(variable)\n",
    "```"
   ]
  },
  {
   "cell_type": "code",
   "execution_count": 0,
   "metadata": {
    "colab": {},
    "colab_type": "code",
    "id": "ISaM6FKyyZ3M"
   },
   "outputs": [],
   "source": [
    "# Convertir Lista a tupla\n",
    "print(listaCadenas)\n",
    "print(type(listaCadenas))\n",
    "print(tuple(listaCadenas))\n",
    "print(type(tuple(listaCadenas)))"
   ]
  },
  {
   "cell_type": "code",
   "execution_count": 0,
   "metadata": {
    "colab": {},
    "colab_type": "code",
    "id": "UBIJVcId0wW8"
   },
   "outputs": [],
   "source": [
    "# Convertir de cadena a entero\n",
    "print('123')\n",
    "print(type('123'))\n",
    "print(int('123'))\n",
    "print(type(int('123')))"
   ]
  },
  {
   "cell_type": "code",
   "execution_count": 0,
   "metadata": {
    "colab": {},
    "colab_type": "code",
    "id": "BRiLSVzzgjtY"
   },
   "outputs": [],
   "source": [
    "float(\"Juan\")"
   ]
  },
  {
   "cell_type": "markdown",
   "metadata": {
    "colab_type": "text",
    "id": "DVpFtIj32mmw"
   },
   "source": [
    "## Funciones Integradas (Built-in Functions)\n",
    "\n",
    "**Funciones:** Una función es un bloque de código con un nombre asociado, que recibe $0$ o más argumentos como entrada, sigue una serie de instrucciones y devuelve un valor o realiza una tarea.\n",
    "\n",
    "Python dispone de una serie de funciones intregradas al lenguaje( [built-in](https://docs.python.org/3/library/functions.html))\n",
    "\n",
    "Un ejemplo de estas funciones son las vistas en los anteriores puntos como las de convertir tipos de datos y la de imprimir."
   ]
  },
  {
   "cell_type": "code",
   "execution_count": 35,
   "metadata": {
    "colab": {
     "base_uri": "https://localhost:8080/",
     "height": 51
    },
    "colab_type": "code",
    "executionInfo": {
     "elapsed": 10865,
     "status": "ok",
     "timestamp": 1591056140117,
     "user": {
      "displayName": "Ana Lopez",
      "photoUrl": "https://lh3.googleusercontent.com/a-/AOh14Gj1dkF5QHwdzo0ygY_LrTIzktyfsXlogjzGema4=s64",
      "userId": "15130352723004509221"
     },
     "user_tz": 300
    },
    "id": "Qb6bB4_w2HyO",
    "outputId": "e35afa3d-6eaa-401b-c030-e78b792622b7"
   },
   "outputs": [
    {
     "name": "stdout",
     "output_type": "stream",
     "text": [
      "Ingrese un número entero: 2\n",
      "4\n"
     ]
    }
   ],
   "source": [
    "# Ingresar valor por teclado\n",
    "entrada = int(input(\"Ingrese un número entero: \"))\n",
    "print(entrada**2)"
   ]
  },
  {
   "cell_type": "code",
   "execution_count": 36,
   "metadata": {
    "colab": {
     "base_uri": "https://localhost:8080/",
     "height": 51
    },
    "colab_type": "code",
    "executionInfo": {
     "elapsed": 4374,
     "status": "ok",
     "timestamp": 1591056153322,
     "user": {
      "displayName": "Ana Lopez",
      "photoUrl": "https://lh3.googleusercontent.com/a-/AOh14Gj1dkF5QHwdzo0ygY_LrTIzktyfsXlogjzGema4=s64",
      "userId": "15130352723004509221"
     },
     "user_tz": 300
    },
    "id": "HjRNCpJohOKw",
    "outputId": "18039429-4d27-4948-a895-a7cf95f1bdaf"
   },
   "outputs": [
    {
     "name": "stdout",
     "output_type": "stream",
     "text": [
      "Ingrese un número entero: 2\n",
      "22\n"
     ]
    }
   ],
   "source": [
    "# Ingresar valor por teclado\n",
    "entrada = input(\"Ingrese un número entero: \")\n",
    "print(entrada*2)"
   ]
  },
  {
   "cell_type": "code",
   "execution_count": 0,
   "metadata": {
    "colab": {},
    "colab_type": "code",
    "id": "woZoZTWq4Gtt"
   },
   "outputs": [],
   "source": [
    "2# Valor absoluto de un numero\n",
    "print(abs(-1))"
   ]
  },
  {
   "cell_type": "markdown",
   "metadata": {
    "colab_type": "text",
    "id": "N40jkNVI4YmN"
   },
   "source": [
    "### Ejercicio 1:\n",
    "\n",
    "\n",
    "Ejecute las siguientes 3 celdas e infiera lo que hace la función round incorporada con uno o dos argumentos."
   ]
  },
  {
   "cell_type": "code",
   "execution_count": 35,
   "metadata": {
    "colab": {
     "base_uri": "https://localhost:8080/",
     "height": 34
    },
    "colab_type": "code",
    "executionInfo": {
     "elapsed": 741,
     "status": "ok",
     "timestamp": 1591056190181,
     "user": {
      "displayName": "Ana Lopez",
      "photoUrl": "https://lh3.googleusercontent.com/a-/AOh14Gj1dkF5QHwdzo0ygY_LrTIzktyfsXlogjzGema4=s64",
      "userId": "15130352723004509221"
     },
     "user_tz": 300
    },
    "id": "VkyhSmMk4RaH",
    "outputId": "bcb6adb5-cf49-4303-a914-71fadb129f5b"
   },
   "outputs": [
    {
     "data": {
      "text/plain": [
       "-5"
      ]
     },
     "execution_count": 35,
     "metadata": {},
     "output_type": "execute_result"
    }
   ],
   "source": [
    "round( -4.78 )"
   ]
  },
  {
   "cell_type": "code",
   "execution_count": 36,
   "metadata": {
    "colab": {
     "base_uri": "https://localhost:8080/",
     "height": 34
    },
    "colab_type": "code",
    "executionInfo": {
     "elapsed": 743,
     "status": "ok",
     "timestamp": 1591056194241,
     "user": {
      "displayName": "Ana Lopez",
      "photoUrl": "https://lh3.googleusercontent.com/a-/AOh14Gj1dkF5QHwdzo0ygY_LrTIzktyfsXlogjzGema4=s64",
      "userId": "15130352723004509221"
     },
     "user_tz": 300
    },
    "id": "WapQDqox4cHj",
    "outputId": "4ee46eff-3a4e-4586-a797-40e6e7bcd4e8"
   },
   "outputs": [
    {
     "data": {
      "text/plain": [
       "-3.1415"
      ]
     },
     "execution_count": 36,
     "metadata": {},
     "output_type": "execute_result"
    }
   ],
   "source": [
    "round( -3.141516297, 4 )"
   ]
  },
  {
   "cell_type": "code",
   "execution_count": 37,
   "metadata": {
    "colab": {
     "base_uri": "https://localhost:8080/",
     "height": 34
    },
    "colab_type": "code",
    "executionInfo": {
     "elapsed": 547,
     "status": "ok",
     "timestamp": 1591056195543,
     "user": {
      "displayName": "Ana Lopez",
      "photoUrl": "https://lh3.googleusercontent.com/a-/AOh14Gj1dkF5QHwdzo0ygY_LrTIzktyfsXlogjzGema4=s64",
      "userId": "15130352723004509221"
     },
     "user_tz": 300
    },
    "id": "-U7anAw14hOp",
    "outputId": "ee758d0c-e0bb-4d72-f3cb-e367dc84b716"
   },
   "outputs": [
    {
     "data": {
      "text/plain": [
       "-3.14152"
      ]
     },
     "execution_count": 37,
     "metadata": {},
     "output_type": "execute_result"
    }
   ],
   "source": [
    "round( -3.141516297, 5 )"
   ]
  },
  {
   "cell_type": "markdown",
   "metadata": {
    "colab_type": "text",
    "id": "08Nk8EON4nI-"
   },
   "source": [
    "### Ejercicio 2:\n",
    "\n",
    "\n",
    "Desde la pagina de las funciones integradas [built-in](https://docs.python.org/3/library/functions.html), consulte la forma de usar la función `min()` y `max()`.\n",
    "\n",
    "- Cree una lista con los valores 42, 17 y 68.\n",
    "- Usando la función `min()`, imprima el valor minimo.\n",
    "- Usando la función `max()`, imprima el valor maximo.\n",
    "- Validar si hay una función que me devuelva la suma?"
   ]
  },
  {
   "cell_type": "code",
   "execution_count": 0,
   "metadata": {
    "colab": {},
    "colab_type": "code",
    "id": "Be4ueHtS48L9"
   },
   "outputs": [],
   "source": [
    "# Su Código\n"
   ]
  },
  {
   "cell_type": "markdown",
   "metadata": {
    "colab_type": "text",
    "id": "8EcYyyUg5sje"
   },
   "source": [
    "## Ayuda \n",
    "\n",
    "Python cuenta con `help()` y `?` que nos devuelve una descripción de la función que queremos conocer."
   ]
  },
  {
   "cell_type": "code",
   "execution_count": 0,
   "metadata": {
    "colab": {},
    "colab_type": "code",
    "id": "FhI6URox5r1C"
   },
   "outputs": [],
   "source": [
    "#help(range)"
   ]
  },
  {
   "cell_type": "code",
   "execution_count": 0,
   "metadata": {
    "colab": {},
    "colab_type": "code",
    "id": "NwiBPFNL4htU"
   },
   "outputs": [],
   "source": [
    "?range"
   ]
  },
  {
   "cell_type": "markdown",
   "metadata": {
    "colab_type": "text",
    "id": "LVu8VIk46X8P"
   },
   "source": [
    "### Ejercicio 3:\n",
    "\n",
    "Cree una variable llamada rango y asignele range(1, 100, 5), luego imprima la variable convirtiendola primero a lista, cual es el resultado?"
   ]
  },
  {
   "cell_type": "code",
   "execution_count": 0,
   "metadata": {
    "colab": {},
    "colab_type": "code",
    "id": "VH9a6FPw6Q5o"
   },
   "outputs": [],
   "source": [
    "# Su código"
   ]
  },
  {
   "cell_type": "markdown",
   "metadata": {
    "colab_type": "text",
    "id": "Q8gb4Oeu64PR"
   },
   "source": [
    "## Manejo de Strings\n",
    "\n",
    "**IMPORTANTE:** Strings pueden ser definidos con doble comilla (\"...\") or comilla simple ('...'), las dos sintaxis hacen exactamente lo mismo!"
   ]
  },
  {
   "cell_type": "code",
   "execution_count": 38,
   "metadata": {
    "colab": {},
    "colab_type": "code",
    "id": "jSLgU0z66-zg"
   },
   "outputs": [
    {
     "data": {
      "text/plain": [
       "True"
      ]
     },
     "execution_count": 38,
     "metadata": {},
     "output_type": "execute_result"
    }
   ],
   "source": [
    "'Juan' == \"Juan\""
   ]
  },
  {
   "cell_type": "code",
   "execution_count": 39,
   "metadata": {
    "colab": {},
    "colab_type": "code",
    "id": "GKPmUo9t7BGL"
   },
   "outputs": [
    {
     "data": {
      "text/plain": [
       "True"
      ]
     },
     "execution_count": 39,
     "metadata": {},
     "output_type": "execute_result"
    }
   ],
   "source": [
    "'Juan said: \"Yeah\"' == \"Juan said: \\\"Yeah\\\"\""
   ]
  },
  {
   "cell_type": "code",
   "execution_count": 40,
   "metadata": {
    "colab": {},
    "colab_type": "code",
    "id": "JBC5jESk7Cg5"
   },
   "outputs": [
    {
     "data": {
      "text/plain": [
       "True"
      ]
     },
     "execution_count": 40,
     "metadata": {},
     "output_type": "execute_result"
    }
   ],
   "source": [
    "\"Juan's sisters\" == 'Juan\\'s sisters' "
   ]
  },
  {
   "cell_type": "code",
   "execution_count": 41,
   "metadata": {
    "colab": {
     "base_uri": "https://localhost:8080/",
     "height": 34
    },
    "colab_type": "code",
    "executionInfo": {
     "elapsed": 841,
     "status": "ok",
     "timestamp": 1591056296396,
     "user": {
      "displayName": "Ana Lopez",
      "photoUrl": "https://lh3.googleusercontent.com/a-/AOh14Gj1dkF5QHwdzo0ygY_LrTIzktyfsXlogjzGema4=s64",
      "userId": "15130352723004509221"
     },
     "user_tz": 300
    },
    "id": "AecDLAtz7EaW",
    "outputId": "cbe36f6e-cdbc-4876-c66f-e6dc2e3040fa"
   },
   "outputs": [
    {
     "data": {
      "text/plain": [
       "'I feel 😄'"
      ]
     },
     "execution_count": 41,
     "metadata": {},
     "output_type": "execute_result"
    }
   ],
   "source": [
    "'I feel \\U0001F604'"
   ]
  },
  {
   "cell_type": "markdown",
   "metadata": {
    "colab_type": "text",
    "id": "q2HaBEgu7Q09"
   },
   "source": [
    "### Interpolación de Cadenas\n",
    "\n",
    "El camino más facil para insertar dinamicamente variable en cadenas es a través de la interpolación de cadenas usando:\n",
    "\n",
    "la sintaxis f\"....{var1}... {var2}\"."
   ]
  },
  {
   "cell_type": "code",
   "execution_count": 42,
   "metadata": {
    "colab": {
     "base_uri": "https://localhost:8080/",
     "height": 34
    },
    "colab_type": "code",
    "executionInfo": {
     "elapsed": 783,
     "status": "ok",
     "timestamp": 1591056331337,
     "user": {
      "displayName": "Ana Lopez",
      "photoUrl": "https://lh3.googleusercontent.com/a-/AOh14Gj1dkF5QHwdzo0ygY_LrTIzktyfsXlogjzGema4=s64",
      "userId": "15130352723004509221"
     },
     "user_tz": 300
    },
    "id": "XvtpEddD7N34",
    "outputId": "d892b44b-e06f-4088-fc19-29ad250ac6d8"
   },
   "outputs": [
    {
     "data": {
      "text/plain": [
       "'Juan is 1.7 meters tall and has 2 brothers and sisters'"
      ]
     },
     "execution_count": 42,
     "metadata": {},
     "output_type": "execute_result"
    }
   ],
   "source": [
    "juans_height = 1.70\n",
    "num_siblings = 2 \n",
    "\n",
    "f\"Juan is {juans_height} meters tall and has {num_siblings} brothers and sisters\""
   ]
  },
  {
   "cell_type": "markdown",
   "metadata": {
    "colab_type": "text",
    "id": "aR8X5EiE7coN"
   },
   "source": [
    "También se puede especificar la precisión con la sintaxis \"...{var:.#f}...\", donde # es el número de digitos decimales."
   ]
  },
  {
   "cell_type": "code",
   "execution_count": 43,
   "metadata": {
    "colab": {
     "base_uri": "https://localhost:8080/",
     "height": 34
    },
    "colab_type": "code",
    "executionInfo": {
     "elapsed": 696,
     "status": "ok",
     "timestamp": 1591056344506,
     "user": {
      "displayName": "Ana Lopez",
      "photoUrl": "https://lh3.googleusercontent.com/a-/AOh14Gj1dkF5QHwdzo0ygY_LrTIzktyfsXlogjzGema4=s64",
      "userId": "15130352723004509221"
     },
     "user_tz": 300
    },
    "id": "MYGFxfZw7GIg",
    "outputId": "661b22c7-dfd5-46a5-f198-8a3c07f13e04"
   },
   "outputs": [
    {
     "data": {
      "text/plain": [
       "'Juan is 1.70 meters tall'"
      ]
     },
     "execution_count": 43,
     "metadata": {},
     "output_type": "execute_result"
    }
   ],
   "source": [
    "f\"Juan is {juans_height:.2f} meters tall\""
   ]
  },
  {
   "cell_type": "markdown",
   "metadata": {
    "colab_type": "text",
    "id": "5eaX-VOl8gNH"
   },
   "source": [
    "Expresiones Full incluyendo llamado a funciones:"
   ]
  },
  {
   "cell_type": "code",
   "execution_count": 44,
   "metadata": {
    "colab": {
     "base_uri": "https://localhost:8080/",
     "height": 34
    },
    "colab_type": "code",
    "executionInfo": {
     "elapsed": 725,
     "status": "ok",
     "timestamp": 1591056362941,
     "user": {
      "displayName": "Ana Lopez",
      "photoUrl": "https://lh3.googleusercontent.com/a-/AOh14Gj1dkF5QHwdzo0ygY_LrTIzktyfsXlogjzGema4=s64",
      "userId": "15130352723004509221"
     },
     "user_tz": 300
    },
    "id": "kd7aEh247fiA",
    "outputId": "63b08bc5-9b1a-422d-f147-2466f2432a47"
   },
   "outputs": [
    {
     "data": {
      "text/plain": [
       "'Juan is 10 cm taller than Luisa'"
      ]
     },
     "execution_count": 44,
     "metadata": {},
     "output_type": "execute_result"
    }
   ],
   "source": [
    "luisas_height = 1.60\n",
    "f\"Juan is { round( (juans_height - luisas_height)* 100 )  } cm taller than Luisa\""
   ]
  },
  {
   "cell_type": "markdown",
   "metadata": {
    "colab_type": "text",
    "id": "9k8nP6KfUqP-"
   },
   "source": [
    "Una sintaxis ligeramente más nueva y que mejor utiliza el método de formato en cadenas:"
   ]
  },
  {
   "cell_type": "code",
   "execution_count": 45,
   "metadata": {
    "colab": {},
    "colab_type": "code",
    "id": "LQZPEbML8jE1"
   },
   "outputs": [
    {
     "data": {
      "text/plain": [
       "'Juan is 1.7 meters tall and has 2 brothers and sisters'"
      ]
     },
     "execution_count": 45,
     "metadata": {},
     "output_type": "execute_result"
    }
   ],
   "source": [
    "\"Juan is {jh} meters tall and has {ns} brothers and sisters\".format( jh= juans_height, ns=num_siblings  )"
   ]
  },
  {
   "cell_type": "markdown",
   "metadata": {
    "colab_type": "text",
    "id": "1apCM1CGUwW1"
   },
   "source": [
    "La siguiente es también una solución común simple, aunque no la más eficiente."
   ]
  },
  {
   "cell_type": "code",
   "execution_count": 46,
   "metadata": {
    "colab": {},
    "colab_type": "code",
    "id": "TBunBtXjUsoR"
   },
   "outputs": [
    {
     "data": {
      "text/plain": [
       "'Juan is 1.7 meters tall and has 2 brothers and sisters'"
      ]
     },
     "execution_count": 46,
     "metadata": {},
     "output_type": "execute_result"
    }
   ],
   "source": [
    "\"Juan is \" + str(juans_height) + \" meters tall and has \" + str(num_siblings) + \" brothers and sisters\" "
   ]
  },
  {
   "cell_type": "markdown",
   "metadata": {
    "colab_type": "text",
    "id": "moIWuEuSVDeY"
   },
   "source": [
    "Como en C/Java, etc., una cadena puede también contener códigos especiales como salto de linea ('\\n') y tabulación ('\\t')."
   ]
  },
  {
   "cell_type": "code",
   "execution_count": 47,
   "metadata": {
    "colab": {
     "base_uri": "https://localhost:8080/",
     "height": 68
    },
    "colab_type": "code",
    "executionInfo": {
     "elapsed": 885,
     "status": "ok",
     "timestamp": 1591056431390,
     "user": {
      "displayName": "Ana Lopez",
      "photoUrl": "https://lh3.googleusercontent.com/a-/AOh14Gj1dkF5QHwdzo0ygY_LrTIzktyfsXlogjzGema4=s64",
      "userId": "15130352723004509221"
     },
     "user_tz": 300
    },
    "id": "muMtTOvCUyTA",
    "outputId": "f614deed-e362-49b5-cf9e-3245abc77378"
   },
   "outputs": [
    {
     "name": "stdout",
     "output_type": "stream",
     "text": [
      "Juan is 1.7 meters tall\n",
      "\tand has 2 brothers\n",
      "and sisters\n"
     ]
    }
   ],
   "source": [
    "a_str = f\"Juan is {juans_height} meters tall\\n\\tand has {num_siblings} brothers\\nand sisters\"\n",
    "print( a_str )"
   ]
  },
  {
   "cell_type": "markdown",
   "metadata": {
    "colab_type": "text",
    "id": "ogKJg_EnV6Rz"
   },
   "source": [
    "### Indexación de Cadenas\n",
    "\n",
    "Las cadenas de Python son cadenas de caracteres, y cada carácter reside en un índice a partir de $0$ (para el primer carácter) y terminando en longitud de cadena $-1$ (para el último carácter).\n",
    "\n",
    "|G|r|u|p|o|\n",
    "|-|-|-|-|-|\n",
    "|0|1|2|3|4|\n",
    "|-|-|-|-|-|\n",
    "|-5|-4|-3|-2|-1|\n"
   ]
  },
  {
   "cell_type": "code",
   "execution_count": 48,
   "metadata": {
    "colab": {},
    "colab_type": "code",
    "id": "eH2_X2f_VHb_"
   },
   "outputs": [],
   "source": [
    "cadena = \"Juan's height u\""
   ]
  },
  {
   "cell_type": "code",
   "execution_count": 49,
   "metadata": {
    "colab": {
     "base_uri": "https://localhost:8080/",
     "height": 51
    },
    "colab_type": "code",
    "executionInfo": {
     "elapsed": 650,
     "status": "ok",
     "timestamp": 1591056494418,
     "user": {
      "displayName": "Ana Lopez",
      "photoUrl": "https://lh3.googleusercontent.com/a-/AOh14Gj1dkF5QHwdzo0ygY_LrTIzktyfsXlogjzGema4=s64",
      "userId": "15130352723004509221"
     },
     "user_tz": 300
    },
    "id": "NxDyPy2eX-c3",
    "outputId": "abfdb4de-a441-46f9-8d5d-f0e7e9f7c565"
   },
   "outputs": [
    {
     "name": "stdout",
     "output_type": "stream",
     "text": [
      "Primer caracter:  J\n",
      "Ultimo caracter:  u\n"
     ]
    }
   ],
   "source": [
    "print(\"Primer caracter: \",cadena[0])\n",
    "print(\"Ultimo caracter: \",cadena[-1])"
   ]
  },
  {
   "cell_type": "code",
   "execution_count": 50,
   "metadata": {
    "colab": {},
    "colab_type": "code",
    "id": "anXi-2fLYBA7"
   },
   "outputs": [
    {
     "name": "stdout",
     "output_type": "stream",
     "text": [
      "<class 'str'>\n"
     ]
    }
   ],
   "source": [
    "print(type(cadena[0]))"
   ]
  },
  {
   "cell_type": "markdown",
   "metadata": {
    "colab_type": "text",
    "id": "qrpLrpeZYUvH"
   },
   "source": [
    "Las cadenas son inmutables"
   ]
  },
  {
   "cell_type": "code",
   "execution_count": 51,
   "metadata": {
    "colab": {
     "base_uri": "https://localhost:8080/",
     "height": 164
    },
    "colab_type": "code",
    "executionInfo": {
     "elapsed": 753,
     "status": "error",
     "timestamp": 1591056522214,
     "user": {
      "displayName": "Ana Lopez",
      "photoUrl": "https://lh3.googleusercontent.com/a-/AOh14Gj1dkF5QHwdzo0ygY_LrTIzktyfsXlogjzGema4=s64",
      "userId": "15130352723004509221"
     },
     "user_tz": 300
    },
    "id": "9uvqrUN7YPk2",
    "outputId": "67d91726-3d38-416a-fa64-765f4874b778"
   },
   "outputs": [
    {
     "ename": "TypeError",
     "evalue": "'str' object does not support item assignment",
     "output_type": "error",
     "traceback": [
      "\u001b[0;31m---------------------------------------------------------------------------\u001b[0m",
      "\u001b[0;31mTypeError\u001b[0m                                 Traceback (most recent call last)",
      "\u001b[0;32m<ipython-input-51-00a3dd25daf6>\u001b[0m in \u001b[0;36m<module>\u001b[0;34m\u001b[0m\n\u001b[0;32m----> 1\u001b[0;31m \u001b[0mcadena\u001b[0m\u001b[0;34m[\u001b[0m\u001b[0;36m1\u001b[0m\u001b[0;34m]\u001b[0m \u001b[0;34m=\u001b[0m \u001b[0;34m'o'\u001b[0m\u001b[0;34m\u001b[0m\u001b[0;34m\u001b[0m\u001b[0m\n\u001b[0m",
      "\u001b[0;31mTypeError\u001b[0m: 'str' object does not support item assignment"
     ]
    }
   ],
   "source": [
    "cadena[1] = 'o'"
   ]
  },
  {
   "cell_type": "markdown",
   "metadata": {
    "colab_type": "text",
    "id": "Qgn2BDHPZSlV"
   },
   "source": [
    "Si se desea cambiar el valor de un caracter de una cadena se debe de usar las funciones propias del objeto string."
   ]
  },
  {
   "cell_type": "code",
   "execution_count": 52,
   "metadata": {
    "colab": {
     "base_uri": "https://localhost:8080/",
     "height": 34
    },
    "colab_type": "code",
    "executionInfo": {
     "elapsed": 728,
     "status": "ok",
     "timestamp": 1591056537594,
     "user": {
      "displayName": "Ana Lopez",
      "photoUrl": "https://lh3.googleusercontent.com/a-/AOh14Gj1dkF5QHwdzo0ygY_LrTIzktyfsXlogjzGema4=s64",
      "userId": "15130352723004509221"
     },
     "user_tz": 300
    },
    "id": "vz3CFTw0ZR4l",
    "outputId": "862fd43c-8f1c-47d2-9656-16e0664824a5"
   },
   "outputs": [
    {
     "data": {
      "text/plain": [
       "\"Joan's height o\""
      ]
     },
     "execution_count": 52,
     "metadata": {},
     "output_type": "execute_result"
    }
   ],
   "source": [
    "str.replace(cadena,'u','o')"
   ]
  },
  {
   "cell_type": "code",
   "execution_count": 53,
   "metadata": {
    "colab": {
     "base_uri": "https://localhost:8080/",
     "height": 34
    },
    "colab_type": "code",
    "executionInfo": {
     "elapsed": 1146,
     "status": "ok",
     "timestamp": 1591056570700,
     "user": {
      "displayName": "Ana Lopez",
      "photoUrl": "https://lh3.googleusercontent.com/a-/AOh14Gj1dkF5QHwdzo0ygY_LrTIzktyfsXlogjzGema4=s64",
      "userId": "15130352723004509221"
     },
     "user_tz": 300
    },
    "id": "SwFs43R4XEb3",
    "outputId": "de50029b-b3b5-4216-e60b-fc2dc3791c66"
   },
   "outputs": [
    {
     "data": {
      "text/plain": [
       "\"Juan's height u\""
      ]
     },
     "execution_count": 53,
     "metadata": {},
     "output_type": "execute_result"
    }
   ],
   "source": [
    "cadena"
   ]
  },
  {
   "cell_type": "code",
   "execution_count": 54,
   "metadata": {
    "colab": {},
    "colab_type": "code",
    "id": "jQRoC1ccuaPO"
   },
   "outputs": [
    {
     "name": "stdout",
     "output_type": "stream",
     "text": [
      "Joan's height o\n"
     ]
    }
   ],
   "source": [
    "cadena = str.replace(cadena,'u','o')\n",
    "print(cadena)"
   ]
  },
  {
   "cell_type": "markdown",
   "metadata": {
    "colab_type": "text",
    "id": "-NR8eEZuZ8CI"
   },
   "source": [
    "Si se desea conocer el tamaño de la cadena de caracteres se usa el metodo `len(cadena)`."
   ]
  },
  {
   "cell_type": "code",
   "execution_count": 55,
   "metadata": {
    "colab": {
     "base_uri": "https://localhost:8080/",
     "height": 34
    },
    "colab_type": "code",
    "executionInfo": {
     "elapsed": 675,
     "status": "ok",
     "timestamp": 1591056597132,
     "user": {
      "displayName": "Ana Lopez",
      "photoUrl": "https://lh3.googleusercontent.com/a-/AOh14Gj1dkF5QHwdzo0ygY_LrTIzktyfsXlogjzGema4=s64",
      "userId": "15130352723004509221"
     },
     "user_tz": 300
    },
    "id": "R-DN26BbYaKe",
    "outputId": "a8bfb67e-0f92-4ce7-ebe9-4e24e829c1b4"
   },
   "outputs": [
    {
     "data": {
      "text/plain": [
       "15"
      ]
     },
     "execution_count": 55,
     "metadata": {},
     "output_type": "execute_result"
    }
   ],
   "source": [
    "len(cadena)"
   ]
  },
  {
   "cell_type": "markdown",
   "metadata": {
    "colab_type": "text",
    "id": "dRYVXYPbg-Up"
   },
   "source": [
    "Si se desea conocer si un caracter esta en una cadena de caracteres se usa el operador `in`."
   ]
  },
  {
   "cell_type": "code",
   "execution_count": 57,
   "metadata": {
    "colab": {
     "base_uri": "https://localhost:8080/",
     "height": 34
    },
    "colab_type": "code",
    "executionInfo": {
     "elapsed": 702,
     "status": "ok",
     "timestamp": 1591056620749,
     "user": {
      "displayName": "Ana Lopez",
      "photoUrl": "https://lh3.googleusercontent.com/a-/AOh14Gj1dkF5QHwdzo0ygY_LrTIzktyfsXlogjzGema4=s64",
      "userId": "15130352723004509221"
     },
     "user_tz": 300
    },
    "id": "Em3epH4FgyuK",
    "outputId": "20da3387-9e29-4b81-c52a-49f8a12b6b26"
   },
   "outputs": [
    {
     "data": {
      "text/plain": [
       "True"
      ]
     },
     "execution_count": 57,
     "metadata": {},
     "output_type": "execute_result"
    }
   ],
   "source": [
    "'a' in cadena"
   ]
  },
  {
   "cell_type": "markdown",
   "metadata": {
    "colab_type": "text",
    "id": "2ExiuuVDbAjU"
   },
   "source": [
    "### Cortar (Slicing) Cadenas\n",
    "\n",
    "**Slicing** en Python es un camino poderoso para extraer sub-partes de una cadena, listas y tuplas.\n",
    "\n",
    "```\n",
    "str[start:end]\n",
    "````\n",
    "**start**: sub-cadena inicia desde este elemento\n",
    "\n",
    "**end**: fin sub-cadena, excluye el elemento en este index.\n",
    "\n",
    "|G|r|u|p|o|\n",
    "|-|-|-|-|-|\n",
    "|0|1|2|3|4|\n",
    "\n",
    "```python\n",
    "cadena = \"Grupo\"\n",
    "print(cadena[0:2])\n",
    "```\n",
    "|G|r|\n",
    "|-|-|\n",
    "|0|1|\n"
   ]
  },
  {
   "cell_type": "code",
   "execution_count": 58,
   "metadata": {
    "colab": {
     "base_uri": "https://localhost:8080/",
     "height": 34
    },
    "colab_type": "code",
    "executionInfo": {
     "elapsed": 656,
     "status": "ok",
     "timestamp": 1591056683912,
     "user": {
      "displayName": "Ana Lopez",
      "photoUrl": "https://lh3.googleusercontent.com/a-/AOh14Gj1dkF5QHwdzo0ygY_LrTIzktyfsXlogjzGema4=s64",
      "userId": "15130352723004509221"
     },
     "user_tz": 300
    },
    "id": "bYxBWAfha9JH",
    "outputId": "cb3a424e-af3c-49f0-d15e-de9fe303f8eb"
   },
   "outputs": [
    {
     "name": "stdout",
     "output_type": "stream",
     "text": [
      "Gr\n"
     ]
    }
   ],
   "source": [
    "cadena = \"Grupo\"\n",
    "print(cadena[0:2])"
   ]
  },
  {
   "cell_type": "code",
   "execution_count": 59,
   "metadata": {
    "colab": {
     "base_uri": "https://localhost:8080/",
     "height": 34
    },
    "colab_type": "code",
    "executionInfo": {
     "elapsed": 725,
     "status": "ok",
     "timestamp": 1591056690288,
     "user": {
      "displayName": "Ana Lopez",
      "photoUrl": "https://lh3.googleusercontent.com/a-/AOh14Gj1dkF5QHwdzo0ygY_LrTIzktyfsXlogjzGema4=s64",
      "userId": "15130352723004509221"
     },
     "user_tz": 300
    },
    "id": "RC9_OuVYaDfS",
    "outputId": "a1e8be74-6e98-4d4e-bee5-852512439f9e"
   },
   "outputs": [
    {
     "name": "stdout",
     "output_type": "stream",
     "text": [
      "Grup\n"
     ]
    }
   ],
   "source": [
    "# Sub-cadena desde la posicion inicial, 4 caracteres.\n",
    "print(cadena[0:4])"
   ]
  },
  {
   "cell_type": "code",
   "execution_count": 60,
   "metadata": {
    "colab": {
     "base_uri": "https://localhost:8080/",
     "height": 34
    },
    "colab_type": "code",
    "executionInfo": {
     "elapsed": 652,
     "status": "ok",
     "timestamp": 1591056698666,
     "user": {
      "displayName": "Ana Lopez",
      "photoUrl": "https://lh3.googleusercontent.com/a-/AOh14Gj1dkF5QHwdzo0ygY_LrTIzktyfsXlogjzGema4=s64",
      "userId": "15130352723004509221"
     },
     "user_tz": 300
    },
    "id": "TvEA0WgEcbwD",
    "outputId": "312ba4f0-420a-4387-cc98-7ceae8b41ae9"
   },
   "outputs": [
    {
     "name": "stdout",
     "output_type": "stream",
     "text": [
      "Grup\n"
     ]
    }
   ],
   "source": [
    "# Exactamente igual al anterior, solo que el 0 es el índice inicial implícito)\n",
    "print(cadena[:4])"
   ]
  },
  {
   "cell_type": "code",
   "execution_count": 61,
   "metadata": {
    "colab": {
     "base_uri": "https://localhost:8080/",
     "height": 34
    },
    "colab_type": "code",
    "executionInfo": {
     "elapsed": 610,
     "status": "ok",
     "timestamp": 1591056701974,
     "user": {
      "displayName": "Ana Lopez",
      "photoUrl": "https://lh3.googleusercontent.com/a-/AOh14Gj1dkF5QHwdzo0ygY_LrTIzktyfsXlogjzGema4=s64",
      "userId": "15130352723004509221"
     },
     "user_tz": 300
    },
    "id": "_BaUosZ4df_C",
    "outputId": "fffd2596-81ed-4b24-cf08-0ea9868379c1"
   },
   "outputs": [
    {
     "name": "stdout",
     "output_type": "stream",
     "text": [
      "o\n"
     ]
    }
   ],
   "source": [
    "# Sub-cadena desde el cuarto caracter hasta el final\n",
    "print(cadena[4:])"
   ]
  },
  {
   "cell_type": "code",
   "execution_count": 62,
   "metadata": {
    "colab": {},
    "colab_type": "code",
    "id": "HhjF7fNzfYSD"
   },
   "outputs": [
    {
     "name": "stdout",
     "output_type": "stream",
     "text": [
      "rup\n"
     ]
    }
   ],
   "source": [
    "# Sub-cadena desde el caracter en la posicion 1 hasta el caracter en la posicion 4\n",
    "print(cadena[1:4])"
   ]
  },
  {
   "cell_type": "code",
   "execution_count": 63,
   "metadata": {
    "colab": {
     "base_uri": "https://localhost:8080/",
     "height": 34
    },
    "colab_type": "code",
    "executionInfo": {
     "elapsed": 695,
     "status": "ok",
     "timestamp": 1591056707057,
     "user": {
      "displayName": "Ana Lopez",
      "photoUrl": "https://lh3.googleusercontent.com/a-/AOh14Gj1dkF5QHwdzo0ygY_LrTIzktyfsXlogjzGema4=s64",
      "userId": "15130352723004509221"
     },
     "user_tz": 300
    },
    "id": "dHhDxLfNfnMP",
    "outputId": "f30fdce0-bb0d-449b-c278-06acad8c4ee3"
   },
   "outputs": [
    {
     "name": "stdout",
     "output_type": "stream",
     "text": [
      "upo\n"
     ]
    }
   ],
   "source": [
    "# Sub-cadena con indices negativos, el -1 es el índice final implícito.\n",
    "print(cadena[-3:])"
   ]
  },
  {
   "cell_type": "code",
   "execution_count": 64,
   "metadata": {
    "colab": {
     "base_uri": "https://localhost:8080/",
     "height": 34
    },
    "colab_type": "code",
    "executionInfo": {
     "elapsed": 708,
     "status": "ok",
     "timestamp": 1591056710516,
     "user": {
      "displayName": "Ana Lopez",
      "photoUrl": "https://lh3.googleusercontent.com/a-/AOh14Gj1dkF5QHwdzo0ygY_LrTIzktyfsXlogjzGema4=s64",
      "userId": "15130352723004509221"
     },
     "user_tz": 300
    },
    "id": "_43uhB74fwah",
    "outputId": "4e634737-a7b7-4888-9876-11a34aed55d0"
   },
   "outputs": [
    {
     "name": "stdout",
     "output_type": "stream",
     "text": [
      "rup\n"
     ]
    }
   ],
   "source": [
    "# Sub-cadena con indices negativos\n",
    "print(cadena[-4:-1])"
   ]
  },
  {
   "cell_type": "markdown",
   "metadata": {
    "colab_type": "text",
    "id": "7aZp14WQgk-b"
   },
   "source": [
    "## Manejo de Listas\n",
    "\n",
    "Una lista es un arreglo de elementos donde podemos ingresar cualquier tipo de dato, para acceder a estos datos lo podemos hacer mediante un índice."
   ]
  },
  {
   "cell_type": "code",
   "execution_count": 65,
   "metadata": {
    "colab": {},
    "colab_type": "code",
    "id": "rJfiHrfOhdOI"
   },
   "outputs": [],
   "source": [
    "lista = [1,2.5,'Grupo',[1,2],10,'Grupo']"
   ]
  },
  {
   "cell_type": "code",
   "execution_count": 66,
   "metadata": {
    "colab": {},
    "colab_type": "code",
    "id": "Eqkpt_OehqHd"
   },
   "outputs": [
    {
     "name": "stdout",
     "output_type": "stream",
     "text": [
      "Primer elemento de la lista:  1\n",
      "Ultimo elemento de la lista:  Grupo\n"
     ]
    }
   ],
   "source": [
    "print(\"Primer elemento de la lista: \",lista[0])\n",
    "print(\"Ultimo elemento de la lista: \",lista[-1])"
   ]
  },
  {
   "cell_type": "code",
   "execution_count": 67,
   "metadata": {
    "colab": {},
    "colab_type": "code",
    "id": "hrQ2yMfjh-Le"
   },
   "outputs": [
    {
     "name": "stdout",
     "output_type": "stream",
     "text": [
      "[1, 2]\n"
     ]
    }
   ],
   "source": [
    "# Obtener el elemento de la posicion 3\n",
    "print(lista[3])"
   ]
  },
  {
   "cell_type": "markdown",
   "metadata": {
    "colab_type": "text",
    "id": "2K5o5O7aiOXq"
   },
   "source": [
    "Si la posición 3 es una lista, para acceder a los elementos de esta lista se realiza de la siguiente manera."
   ]
  },
  {
   "cell_type": "code",
   "execution_count": 68,
   "metadata": {
    "colab": {
     "base_uri": "https://localhost:8080/",
     "height": 34
    },
    "colab_type": "code",
    "executionInfo": {
     "elapsed": 835,
     "status": "ok",
     "timestamp": 1591056751238,
     "user": {
      "displayName": "Ana Lopez",
      "photoUrl": "https://lh3.googleusercontent.com/a-/AOh14Gj1dkF5QHwdzo0ygY_LrTIzktyfsXlogjzGema4=s64",
      "userId": "15130352723004509221"
     },
     "user_tz": 300
    },
    "id": "vZZHIxiCiKF-",
    "outputId": "de65ce3f-b7a9-425f-dbd9-b5d41b0a9d73"
   },
   "outputs": [
    {
     "name": "stdout",
     "output_type": "stream",
     "text": [
      "2\n"
     ]
    }
   ],
   "source": [
    "# Obtener el elemento de la posicion 3, obtener el elemento 1 de esta lista\n",
    "print(lista[3][1])"
   ]
  },
  {
   "cell_type": "code",
   "execution_count": 69,
   "metadata": {
    "colab": {
     "base_uri": "https://localhost:8080/",
     "height": 34
    },
    "colab_type": "code",
    "executionInfo": {
     "elapsed": 766,
     "status": "ok",
     "timestamp": 1591056757417,
     "user": {
      "displayName": "Ana Lopez",
      "photoUrl": "https://lh3.googleusercontent.com/a-/AOh14Gj1dkF5QHwdzo0ygY_LrTIzktyfsXlogjzGema4=s64",
      "userId": "15130352723004509221"
     },
     "user_tz": 300
    },
    "id": "UUduKW-ZiNa0",
    "outputId": "677bfcce-8425-4a0f-c148-ce016b05b264"
   },
   "outputs": [
    {
     "name": "stdout",
     "output_type": "stream",
     "text": [
      "[2.5, 'Grupo']\n"
     ]
    }
   ],
   "source": [
    "# Obtener los elementos de la posicion 1 hasta la 3\n",
    "print(lista[1:3])"
   ]
  },
  {
   "cell_type": "code",
   "execution_count": 70,
   "metadata": {
    "colab": {
     "base_uri": "https://localhost:8080/",
     "height": 34
    },
    "colab_type": "code",
    "executionInfo": {
     "elapsed": 798,
     "status": "ok",
     "timestamp": 1591056912055,
     "user": {
      "displayName": "Ana Lopez",
      "photoUrl": "https://lh3.googleusercontent.com/a-/AOh14Gj1dkF5QHwdzo0ygY_LrTIzktyfsXlogjzGema4=s64",
      "userId": "15130352723004509221"
     },
     "user_tz": 300
    },
    "id": "K56Tf3SDiv9D",
    "outputId": "70c55514-820f-4027-acfc-5a1a2fea5f7c"
   },
   "outputs": [
    {
     "name": "stdout",
     "output_type": "stream",
     "text": [
      "[1, 2.5, 'Grupo', [1, 2], 10, 'Grupo', 'Nuevo']\n"
     ]
    }
   ],
   "source": [
    "# Adicionar un elemento a la lista\n",
    "lista.append('Nuevo')\n",
    "print(lista)"
   ]
  },
  {
   "cell_type": "code",
   "execution_count": 71,
   "metadata": {
    "colab": {
     "base_uri": "https://localhost:8080/",
     "height": 34
    },
    "colab_type": "code",
    "executionInfo": {
     "elapsed": 809,
     "status": "ok",
     "timestamp": 1591056932322,
     "user": {
      "displayName": "Ana Lopez",
      "photoUrl": "https://lh3.googleusercontent.com/a-/AOh14Gj1dkF5QHwdzo0ygY_LrTIzktyfsXlogjzGema4=s64",
      "userId": "15130352723004509221"
     },
     "user_tz": 300
    },
    "id": "jL7rmUmEjQf3",
    "outputId": "31c5c5a4-2374-4e41-d45b-63fa02f0de19"
   },
   "outputs": [
    {
     "name": "stdout",
     "output_type": "stream",
     "text": [
      "[1, 2.5, 'Grupo', [1, 2], 10, 'Grupo', 'Nuevo', 'Elemento', 45]\n"
     ]
    }
   ],
   "source": [
    "# Extend permite agregar elementos pero al agregar una lista cada elemento de esta se agrega como un elemento mas dentro de la otra lista\n",
    "lista.extend(['Elemento',45])\n",
    "print(lista)"
   ]
  },
  {
   "cell_type": "code",
   "execution_count": 72,
   "metadata": {
    "colab": {
     "base_uri": "https://localhost:8080/",
     "height": 34
    },
    "colab_type": "code",
    "executionInfo": {
     "elapsed": 804,
     "status": "ok",
     "timestamp": 1591056947632,
     "user": {
      "displayName": "Ana Lopez",
      "photoUrl": "https://lh3.googleusercontent.com/a-/AOh14Gj1dkF5QHwdzo0ygY_LrTIzktyfsXlogjzGema4=s64",
      "userId": "15130352723004509221"
     },
     "user_tz": 300
    },
    "id": "l9PyPRKsAJOZ",
    "outputId": "91a3f904-addc-4bd5-eda4-c638093060cf"
   },
   "outputs": [
    {
     "name": "stdout",
     "output_type": "stream",
     "text": [
      "[1, 2.5, 'Grupo', 1, [1, 2], 10, 'Grupo', 'Nuevo', 'Elemento', 45]\n"
     ]
    }
   ],
   "source": [
    "# Inserta un elemento en la posicion dada\n",
    "lista.insert(3,1)\n",
    "print(lista)"
   ]
  },
  {
   "cell_type": "code",
   "execution_count": 73,
   "metadata": {
    "colab": {
     "base_uri": "https://localhost:8080/",
     "height": 34
    },
    "colab_type": "code",
    "executionInfo": {
     "elapsed": 761,
     "status": "ok",
     "timestamp": 1591056961923,
     "user": {
      "displayName": "Ana Lopez",
      "photoUrl": "https://lh3.googleusercontent.com/a-/AOh14Gj1dkF5QHwdzo0ygY_LrTIzktyfsXlogjzGema4=s64",
      "userId": "15130352723004509221"
     },
     "user_tz": 300
    },
    "id": "oBzaPwCSjh9X",
    "outputId": "854dcf97-837b-4831-9cb1-3628a49824ab"
   },
   "outputs": [
    {
     "name": "stdout",
     "output_type": "stream",
     "text": [
      "[1, 2.5, 'Grupo', 1, [1, 2], 'Grupo', 'Nuevo', 'Elemento', 45]\n"
     ]
    }
   ],
   "source": [
    "# Eliminar un elemento de la lista\n",
    "lista.remove(10)\n",
    "print(lista)"
   ]
  },
  {
   "cell_type": "code",
   "execution_count": 74,
   "metadata": {
    "colab": {
     "base_uri": "https://localhost:8080/",
     "height": 34
    },
    "colab_type": "code",
    "executionInfo": {
     "elapsed": 2120,
     "status": "ok",
     "timestamp": 1591056984251,
     "user": {
      "displayName": "Ana Lopez",
      "photoUrl": "https://lh3.googleusercontent.com/a-/AOh14Gj1dkF5QHwdzo0ygY_LrTIzktyfsXlogjzGema4=s64",
      "userId": "15130352723004509221"
     },
     "user_tz": 300
    },
    "id": "PYAuUj1Ajrct",
    "outputId": "52995ba9-eb73-49b4-ebe5-137322b3e8c4"
   },
   "outputs": [
    {
     "name": "stdout",
     "output_type": "stream",
     "text": [
      "2\n"
     ]
    }
   ],
   "source": [
    "# Devuelve el número de indice del elemento que le pasamor por parámetro\n",
    "print(lista.index('Grupo'))"
   ]
  },
  {
   "cell_type": "code",
   "execution_count": 75,
   "metadata": {
    "colab": {
     "base_uri": "https://localhost:8080/",
     "height": 51
    },
    "colab_type": "code",
    "executionInfo": {
     "elapsed": 647,
     "status": "ok",
     "timestamp": 1591057011706,
     "user": {
      "displayName": "Ana Lopez",
      "photoUrl": "https://lh3.googleusercontent.com/a-/AOh14Gj1dkF5QHwdzo0ygY_LrTIzktyfsXlogjzGema4=s64",
      "userId": "15130352723004509221"
     },
     "user_tz": 300
    },
    "id": "1aH6nX11AiWG",
    "outputId": "1d04ffd8-14ac-4131-a931-facdea40116f"
   },
   "outputs": [
    {
     "name": "stdout",
     "output_type": "stream",
     "text": [
      "Grupo\n",
      "[1, 2.5, 1, [1, 2], 'Grupo', 'Nuevo', 'Elemento', 45]\n"
     ]
    }
   ],
   "source": [
    "# Devuelve el elemento en la posicion dada de la lista y lo elimina\n",
    "print(lista.pop(2))\n",
    "print(lista)"
   ]
  },
  {
   "cell_type": "code",
   "execution_count": 76,
   "metadata": {
    "colab": {
     "base_uri": "https://localhost:8080/",
     "height": 34
    },
    "colab_type": "code",
    "executionInfo": {
     "elapsed": 721,
     "status": "ok",
     "timestamp": 1591057023330,
     "user": {
      "displayName": "Ana Lopez",
      "photoUrl": "https://lh3.googleusercontent.com/a-/AOh14Gj1dkF5QHwdzo0ygY_LrTIzktyfsXlogjzGema4=s64",
      "userId": "15130352723004509221"
     },
     "user_tz": 300
    },
    "id": "9R6HePjPkA-Q",
    "outputId": "5f32b332-e738-4d21-ae64-c1d4dda1677c"
   },
   "outputs": [
    {
     "name": "stdout",
     "output_type": "stream",
     "text": [
      "1\n"
     ]
    }
   ],
   "source": [
    "# Devuelve cuantas veces un elemento de una lista se repite\n",
    "print(lista.count('Grupo'))"
   ]
  },
  {
   "cell_type": "code",
   "execution_count": 77,
   "metadata": {
    "colab": {
     "base_uri": "https://localhost:8080/",
     "height": 34
    },
    "colab_type": "code",
    "executionInfo": {
     "elapsed": 645,
     "status": "ok",
     "timestamp": 1591057034354,
     "user": {
      "displayName": "Ana Lopez",
      "photoUrl": "https://lh3.googleusercontent.com/a-/AOh14Gj1dkF5QHwdzo0ygY_LrTIzktyfsXlogjzGema4=s64",
      "userId": "15130352723004509221"
     },
     "user_tz": 300
    },
    "id": "i3OWc52-kMZH",
    "outputId": "7b1cc1e1-0fc3-4723-ce07-4769370eb1f7"
   },
   "outputs": [
    {
     "name": "stdout",
     "output_type": "stream",
     "text": [
      "[45, 'Elemento', 'Nuevo', 'Grupo', [1, 2], 1, 2.5, 1]\n"
     ]
    }
   ],
   "source": [
    "# Invertir los elementos de una lista\n",
    "lista.reverse()\n",
    "print(lista)"
   ]
  },
  {
   "cell_type": "code",
   "execution_count": 78,
   "metadata": {
    "colab": {},
    "colab_type": "code",
    "id": "djMAaRAay0cc"
   },
   "outputs": [
    {
     "name": "stdout",
     "output_type": "stream",
     "text": [
      "Help on NoneType object:\n",
      "\n",
      "class NoneType(object)\n",
      " |  Methods defined here:\n",
      " |  \n",
      " |  __bool__(self, /)\n",
      " |      self != 0\n",
      " |  \n",
      " |  __new__(*args, **kwargs) from builtins.type\n",
      " |      Create and return a new object.  See help(type) for accurate signature.\n",
      " |  \n",
      " |  __repr__(self, /)\n",
      " |      Return repr(self).\n",
      "\n"
     ]
    }
   ],
   "source": [
    "help(lista.reverse())"
   ]
  },
  {
   "cell_type": "code",
   "execution_count": 79,
   "metadata": {
    "colab": {},
    "colab_type": "code",
    "id": "svNMggBgCq6_"
   },
   "outputs": [
    {
     "name": "stdout",
     "output_type": "stream",
     "text": [
      "[3, 2.5, 1, [1, 2], 'Grupo', 'Nuevo', 'Elemento', 45]\n"
     ]
    }
   ],
   "source": [
    "# Las listas son mutables\n",
    "lista[0] = 3\n",
    "print(lista)"
   ]
  },
  {
   "cell_type": "code",
   "execution_count": 80,
   "metadata": {
    "colab": {
     "base_uri": "https://localhost:8080/",
     "height": 34
    },
    "colab_type": "code",
    "executionInfo": {
     "elapsed": 731,
     "status": "ok",
     "timestamp": 1591057072504,
     "user": {
      "displayName": "Ana Lopez",
      "photoUrl": "https://lh3.googleusercontent.com/a-/AOh14Gj1dkF5QHwdzo0ygY_LrTIzktyfsXlogjzGema4=s64",
      "userId": "15130352723004509221"
     },
     "user_tz": 300
    },
    "id": "1s6yNFss1HLM",
    "outputId": "e0e2ea77-b3d4-4ee4-a3f8-6349c7091f84"
   },
   "outputs": [
    {
     "data": {
      "text/plain": [
       "True"
      ]
     },
     "execution_count": 80,
     "metadata": {},
     "output_type": "execute_result"
    }
   ],
   "source": [
    "3 in lista"
   ]
  },
  {
   "cell_type": "markdown",
   "metadata": {
    "colab_type": "text",
    "id": "cww9WuV7Atw5"
   },
   "source": [
    "## Manejo de Diccionarios\n",
    "\n",
    "Al contrario de las listas los diccionarios no tienen orden, un diccionario es una palabra que tiene asociado algo.\n",
    "\n",
    "Se crean poniendo sus elementos entre llaves (`{\"a\":\"Alicante\",\"b\":\"Barcelona\"}`). Se denominan keys a las **palabras** y values a las **definiciones**. Lógicamente no puede haber dos keys iguales, pero si dos values iguales.\n"
   ]
  },
  {
   "cell_type": "code",
   "execution_count": 81,
   "metadata": {
    "colab": {
     "base_uri": "https://localhost:8080/",
     "height": 34
    },
    "colab_type": "code",
    "executionInfo": {
     "elapsed": 674,
     "status": "ok",
     "timestamp": 1591057108294,
     "user": {
      "displayName": "Ana Lopez",
      "photoUrl": "https://lh3.googleusercontent.com/a-/AOh14Gj1dkF5QHwdzo0ygY_LrTIzktyfsXlogjzGema4=s64",
      "userId": "15130352723004509221"
     },
     "user_tz": 300
    },
    "id": "_fJ3dy5fAsw-",
    "outputId": "fa24ed95-c98e-4d38-a860-19ddd9567084"
   },
   "outputs": [
    {
     "name": "stdout",
     "output_type": "stream",
     "text": [
      "{'Piloto 1': 'Fernando Alonso', 'Piloto 2': 'Kimi Raikkonen', 'Piloto 3': 'Felipe Massa'}\n"
     ]
    }
   ],
   "source": [
    "diccionario = {'Piloto 1':'Fernando Alonso', 'Piloto 2':'Kimi Raikkonen', 'Piloto 3':'Felipe Massa'}\n",
    "print(diccionario)"
   ]
  },
  {
   "cell_type": "code",
   "execution_count": 82,
   "metadata": {
    "colab": {
     "base_uri": "https://localhost:8080/",
     "height": 51
    },
    "colab_type": "code",
    "executionInfo": {
     "elapsed": 567,
     "status": "ok",
     "timestamp": 1591057130674,
     "user": {
      "displayName": "Ana Lopez",
      "photoUrl": "https://lh3.googleusercontent.com/a-/AOh14Gj1dkF5QHwdzo0ygY_LrTIzktyfsXlogjzGema4=s64",
      "userId": "15130352723004509221"
     },
     "user_tz": 300
    },
    "id": "nKRs88CoCL8y",
    "outputId": "369a1741-3ec2-4376-817a-57410cefdd91"
   },
   "outputs": [
    {
     "name": "stdout",
     "output_type": "stream",
     "text": [
      "Fernando Alonso\n",
      "Fernando Alonso\n"
     ]
    }
   ],
   "source": [
    "# Devuelve el valor que corresponde con la key introducida.\n",
    "print(diccionario.get('Piloto 1'))\n",
    "print(diccionario['Piloto 1'])"
   ]
  },
  {
   "cell_type": "code",
   "execution_count": 83,
   "metadata": {
    "colab": {
     "base_uri": "https://localhost:8080/",
     "height": 51
    },
    "colab_type": "code",
    "executionInfo": {
     "elapsed": 739,
     "status": "ok",
     "timestamp": 1591057151515,
     "user": {
      "displayName": "Ana Lopez",
      "photoUrl": "https://lh3.googleusercontent.com/a-/AOh14Gj1dkF5QHwdzo0ygY_LrTIzktyfsXlogjzGema4=s64",
      "userId": "15130352723004509221"
     },
     "user_tz": 300
    },
    "id": "7rore5CBCYmu",
    "outputId": "630dd299-73ab-4309-973a-33533f34b350"
   },
   "outputs": [
    {
     "name": "stdout",
     "output_type": "stream",
     "text": [
      "Fernando Alonso\n",
      "{'Piloto 2': 'Kimi Raikkonen', 'Piloto 3': 'Felipe Massa'}\n"
     ]
    }
   ],
   "source": [
    "# Devuelve el valor que corresponde con la key introducida, y luego borra la key y el valor.\n",
    "print(diccionario.pop('Piloto 1'))\n",
    "print(diccionario)"
   ]
  },
  {
   "cell_type": "code",
   "execution_count": 84,
   "metadata": {
    "colab": {
     "base_uri": "https://localhost:8080/",
     "height": 34
    },
    "colab_type": "code",
    "executionInfo": {
     "elapsed": 556,
     "status": "ok",
     "timestamp": 1591057166278,
     "user": {
      "displayName": "Ana Lopez",
      "photoUrl": "https://lh3.googleusercontent.com/a-/AOh14Gj1dkF5QHwdzo0ygY_LrTIzktyfsXlogjzGema4=s64",
      "userId": "15130352723004509221"
     },
     "user_tz": 300
    },
    "id": "S6sRHQy-CmkT",
    "outputId": "ef547911-424c-4efa-b484-1b2aa3299b48"
   },
   "outputs": [
    {
     "name": "stdout",
     "output_type": "stream",
     "text": [
      "{'Piloto 2': 'Sebastian Vettel', 'Piloto 3': 'Felipe Massa', 'Piloto 4': 'Lewis Hamilton'}\n"
     ]
    }
   ],
   "source": [
    "# Actualiza el valor de una determinada key o lo crea si no existe.\n",
    "diccionario.update({'Piloto 4':'Lewis Hamilton'})\n",
    "diccionario.update({'Piloto 2':'Sebastian Vettel'})\n",
    "print(diccionario)"
   ]
  },
  {
   "cell_type": "code",
   "execution_count": 85,
   "metadata": {
    "colab": {
     "base_uri": "https://localhost:8080/",
     "height": 34
    },
    "colab_type": "code",
    "executionInfo": {
     "elapsed": 722,
     "status": "ok",
     "timestamp": 1591057185740,
     "user": {
      "displayName": "Ana Lopez",
      "photoUrl": "https://lh3.googleusercontent.com/a-/AOh14Gj1dkF5QHwdzo0ygY_LrTIzktyfsXlogjzGema4=s64",
      "userId": "15130352723004509221"
     },
     "user_tz": 300
    },
    "id": "0DONnb6b0V8G",
    "outputId": "d4a366ab-f37c-4edf-9a61-ea4a3555aaf7"
   },
   "outputs": [
    {
     "name": "stdout",
     "output_type": "stream",
     "text": [
      "{'Piloto 2': 'Sebastian Vettel', 'Piloto 3': 'Felipe Massa', 'Piloto 4': 'Lewis Hamilton', 'Piloto 5': 'Juan Perez'}\n"
     ]
    }
   ],
   "source": [
    "diccionario['Piloto 5'] = 'Juan Perez'\n",
    "print(diccionario)"
   ]
  },
  {
   "cell_type": "code",
   "execution_count": 86,
   "metadata": {
    "colab": {
     "base_uri": "https://localhost:8080/",
     "height": 68
    },
    "colab_type": "code",
    "executionInfo": {
     "elapsed": 731,
     "status": "ok",
     "timestamp": 1591057224805,
     "user": {
      "displayName": "Ana Lopez",
      "photoUrl": "https://lh3.googleusercontent.com/a-/AOh14Gj1dkF5QHwdzo0ygY_LrTIzktyfsXlogjzGema4=s64",
      "userId": "15130352723004509221"
     },
     "user_tz": 300
    },
    "id": "RpqEwTofC-hX",
    "outputId": "940e278b-8d05-4228-85d4-8ae5c6f3ef77"
   },
   "outputs": [
    {
     "name": "stdout",
     "output_type": "stream",
     "text": [
      "True\n",
      "False\n",
      "False\n"
     ]
    }
   ],
   "source": [
    "# \"key\" in diccionario: devuelve verdadero (True) o falso (False) si la key existe en el diccionario.\n",
    "print (\"Piloto 2\" in diccionario)\n",
    "print (\"piloto 1\" in diccionario)\n",
    "print (\"Sebastian Vettel\" in diccionario)"
   ]
  },
  {
   "cell_type": "code",
   "execution_count": 87,
   "metadata": {
    "colab": {
     "base_uri": "https://localhost:8080/",
     "height": 34
    },
    "colab_type": "code",
    "executionInfo": {
     "elapsed": 609,
     "status": "ok",
     "timestamp": 1591057238454,
     "user": {
      "displayName": "Ana Lopez",
      "photoUrl": "https://lh3.googleusercontent.com/a-/AOh14Gj1dkF5QHwdzo0ygY_LrTIzktyfsXlogjzGema4=s64",
      "userId": "15130352723004509221"
     },
     "user_tz": 300
    },
    "id": "ZMddoLF0DOXe",
    "outputId": "c1a2f146-9e7d-49fb-f173-dcfc74000b38"
   },
   "outputs": [
    {
     "name": "stdout",
     "output_type": "stream",
     "text": [
      "True\n"
     ]
    }
   ],
   "source": [
    "# \"definición\" in diccionario.values(): devuelve verdadero (True) o falso (False) si la definición existe en el diccionario.\n",
    "print (\"Sebastian Vettel\" in diccionario.values())"
   ]
  },
  {
   "cell_type": "code",
   "execution_count": 88,
   "metadata": {
    "colab": {
     "base_uri": "https://localhost:8080/",
     "height": 34
    },
    "colab_type": "code",
    "executionInfo": {
     "elapsed": 782,
     "status": "ok",
     "timestamp": 1591057252484,
     "user": {
      "displayName": "Ana Lopez",
      "photoUrl": "https://lh3.googleusercontent.com/a-/AOh14Gj1dkF5QHwdzo0ygY_LrTIzktyfsXlogjzGema4=s64",
      "userId": "15130352723004509221"
     },
     "user_tz": 300
    },
    "id": "yQFfmXyCDTAb",
    "outputId": "623e9376-7b4c-498f-93f6-b6401dae0f5d"
   },
   "outputs": [
    {
     "name": "stdout",
     "output_type": "stream",
     "text": [
      "{'Piloto 3': 'Felipe Massa', 'Piloto 4': 'Lewis Hamilton', 'Piloto 5': 'Juan Perez'}\n"
     ]
    }
   ],
   "source": [
    "# del diccionario['key']: Elimina el valor (y el key) asociado a la key indicada.\n",
    "del diccionario['Piloto 2']\n",
    "print(diccionario)"
   ]
  },
  {
   "cell_type": "markdown",
   "metadata": {
    "colab_type": "text",
    "id": "SGhcO1nd_7qa"
   },
   "source": [
    "## Manejo de Tuplas\n",
    "\n",
    "Las tuplas son inmutables, una vez creada, no se puede cambiar ni su contenido ni su tamaño."
   ]
  },
  {
   "cell_type": "code",
   "execution_count": 89,
   "metadata": {
    "colab": {},
    "colab_type": "code",
    "id": "0iID8f9fFr6r"
   },
   "outputs": [],
   "source": [
    "tuple1 = (1,2,3,4,5)\n",
    "tuple2 = (6,7,8,9,10)"
   ]
  },
  {
   "cell_type": "code",
   "execution_count": 90,
   "metadata": {
    "colab": {},
    "colab_type": "code",
    "id": "2YqtrLDNFxW4"
   },
   "outputs": [
    {
     "name": "stdout",
     "output_type": "stream",
     "text": [
      "(1, 2, 3, 4, 5, 6, 7, 8, 9, 10)\n"
     ]
    }
   ],
   "source": [
    "# Concatenar tuplas\n",
    "tuple3 = tuple1 + tuple2\n",
    "print(tuple3)"
   ]
  },
  {
   "cell_type": "code",
   "execution_count": 91,
   "metadata": {
    "colab": {},
    "colab_type": "code",
    "id": "zBobFz2QF_LE"
   },
   "outputs": [
    {
     "name": "stdout",
     "output_type": "stream",
     "text": [
      "(1, 2, 3, 4, 5, 1, 2, 3, 4, 5, 1, 2, 3, 4, 5)\n"
     ]
    }
   ],
   "source": [
    "# Repetir tuplas\n",
    "print(tuple1 * 3)"
   ]
  },
  {
   "cell_type": "code",
   "execution_count": 92,
   "metadata": {
    "colab": {},
    "colab_type": "code",
    "id": "sgAWbjg6GEbd"
   },
   "outputs": [
    {
     "name": "stdout",
     "output_type": "stream",
     "text": [
      "False\n",
      "True\n"
     ]
    }
   ],
   "source": [
    "# Validar si un elemento esta en la tupla\n",
    "print(7 in tuple1)\n",
    "print(7 in tuple2)"
   ]
  },
  {
   "cell_type": "code",
   "execution_count": 93,
   "metadata": {
    "colab": {},
    "colab_type": "code",
    "id": "cqgdN7jpGOEM"
   },
   "outputs": [
    {
     "name": "stdout",
     "output_type": "stream",
     "text": [
      "4\n"
     ]
    }
   ],
   "source": [
    "# Devuelve el indice del elemento\n",
    "print(tuple1.index(5))"
   ]
  },
  {
   "cell_type": "code",
   "execution_count": 94,
   "metadata": {
    "colab": {},
    "colab_type": "code",
    "id": "drA9XgaDGZHt"
   },
   "outputs": [
    {
     "name": "stdout",
     "output_type": "stream",
     "text": [
      "4\n"
     ]
    }
   ],
   "source": [
    "# Devuelve cuantas veces esta un elemento repetido\n",
    "tuple4 = (65,67,5,67,34,76,67,231,98,67)\n",
    "print(tuple4.count(67))"
   ]
  },
  {
   "cell_type": "code",
   "execution_count": 95,
   "metadata": {
    "colab": {},
    "colab_type": "code",
    "id": "bI1ej2m4GqMW"
   },
   "outputs": [
    {
     "name": "stdout",
     "output_type": "stream",
     "text": [
      "34\n",
      "67\n",
      "(65, 67, 5, 67)\n",
      "(76, 67, 231, 98, 67)\n",
      "(34, 76, 67, 231)\n",
      "(67, 34, 76)\n"
     ]
    }
   ],
   "source": [
    "# Indexación\n",
    "print(tuple4[4])\n",
    "print(tuple4[-4])\n",
    "print(tuple4[:4])\n",
    "print(tuple4[5:])\n",
    "print(tuple4[-6:-2])\n",
    "print(tuple4[3:6])"
   ]
  },
  {
   "cell_type": "markdown",
   "metadata": {
    "colab_type": "text",
    "id": "e091jzoIgnHz"
   },
   "source": [
    "## Funciones de Usuario\n",
    "\n",
    "En Python, la definición de funciones se realiza mediante la instruccion `def`.  La definición de la función finaliza con dos puntos (`:`) y el algoritmo que la compone, irá con tabulación.\n",
    "\n"
   ]
  },
  {
   "cell_type": "code",
   "execution_count": 96,
   "metadata": {
    "colab": {},
    "colab_type": "code",
    "id": "B-oMd4YVgh-3"
   },
   "outputs": [],
   "source": [
    "def miFuncion():\n",
    "  print(\"Hola Mundo\")"
   ]
  },
  {
   "cell_type": "code",
   "execution_count": 97,
   "metadata": {
    "colab": {
     "base_uri": "https://localhost:8080/",
     "height": 34
    },
    "colab_type": "code",
    "executionInfo": {
     "elapsed": 839,
     "status": "ok",
     "timestamp": 1591057342979,
     "user": {
      "displayName": "Ana Lopez",
      "photoUrl": "https://lh3.googleusercontent.com/a-/AOh14Gj1dkF5QHwdzo0ygY_LrTIzktyfsXlogjzGema4=s64",
      "userId": "15130352723004509221"
     },
     "user_tz": 300
    },
    "id": "EX3W5HRJgCGY",
    "outputId": "b3351e58-10af-4755-f163-263cdeb2efcd"
   },
   "outputs": [
    {
     "name": "stdout",
     "output_type": "stream",
     "text": [
      "Hola Mundo\n"
     ]
    }
   ],
   "source": [
    "miFuncion()"
   ]
  },
  {
   "cell_type": "code",
   "execution_count": 98,
   "metadata": {
    "colab": {
     "base_uri": "https://localhost:8080/",
     "height": 51
    },
    "colab_type": "code",
    "executionInfo": {
     "elapsed": 823,
     "status": "ok",
     "timestamp": 1591057354185,
     "user": {
      "displayName": "Ana Lopez",
      "photoUrl": "https://lh3.googleusercontent.com/a-/AOh14Gj1dkF5QHwdzo0ygY_LrTIzktyfsXlogjzGema4=s64",
      "userId": "15130352723004509221"
     },
     "user_tz": 300
    },
    "id": "nWFS9JEv2_88",
    "outputId": "b0a3bcbf-098b-438a-8669-6456e94dd1ce"
   },
   "outputs": [
    {
     "name": "stdout",
     "output_type": "stream",
     "text": [
      "Hola Mundo\n",
      "None\n"
     ]
    }
   ],
   "source": [
    "valor = miFuncion()\n",
    "print(valor)"
   ]
  },
  {
   "cell_type": "markdown",
   "metadata": {
    "colab_type": "text",
    "id": "nt47tYe6lXk4"
   },
   "source": [
    "Las funciones tambien pueden retornar un valor, este puede ser asignado a una variable.\n",
    "\n",
    "```Python\n",
    "def miFuncion():\n",
    "  return \"Hola Mundo\"\n",
    "````"
   ]
  },
  {
   "cell_type": "code",
   "execution_count": 99,
   "metadata": {
    "colab": {},
    "colab_type": "code",
    "id": "aBZ2fGXslUKW"
   },
   "outputs": [],
   "source": [
    "def miFuncion():\n",
    "  return \"Hola Mundo\""
   ]
  },
  {
   "cell_type": "code",
   "execution_count": 100,
   "metadata": {
    "colab": {
     "base_uri": "https://localhost:8080/",
     "height": 51
    },
    "colab_type": "code",
    "executionInfo": {
     "elapsed": 749,
     "status": "ok",
     "timestamp": 1591057400085,
     "user": {
      "displayName": "Ana Lopez",
      "photoUrl": "https://lh3.googleusercontent.com/a-/AOh14Gj1dkF5QHwdzo0ygY_LrTIzktyfsXlogjzGema4=s64",
      "userId": "15130352723004509221"
     },
     "user_tz": 300
    },
    "id": "iwUwBPdmln5G",
    "outputId": "8cea7d7e-31fa-492a-f091-48957d72081b"
   },
   "outputs": [
    {
     "name": "stdout",
     "output_type": "stream",
     "text": [
      "Hola Mundo\n",
      "Hola Mundo\n"
     ]
    }
   ],
   "source": [
    "mensaje = miFuncion()\n",
    "print(mensaje)\n",
    "print(miFuncion())"
   ]
  },
  {
   "cell_type": "markdown",
   "metadata": {
    "colab_type": "text",
    "id": "UnADeiPAlvbJ"
   },
   "source": [
    "Las funciones tambien pueden recibir parametros de entrada.\n",
    "\n",
    "```Python\n",
    "def miFuncion(nombre, apellido):\n",
    "  return nombre + ' ' + apellido\n",
    "````"
   ]
  },
  {
   "cell_type": "code",
   "execution_count": 101,
   "metadata": {
    "colab": {},
    "colab_type": "code",
    "id": "Jkk_pRIGlr5R"
   },
   "outputs": [],
   "source": [
    "def miFuncion(nombre, apellido):\n",
    "  return nombre + ' ' + apellido"
   ]
  },
  {
   "cell_type": "code",
   "execution_count": 103,
   "metadata": {
    "colab": {},
    "colab_type": "code",
    "id": "RHNUpJVPl-Ab"
   },
   "outputs": [
    {
     "name": "stdout",
     "output_type": "stream",
     "text": [
      "Juan Perez\n"
     ]
    }
   ],
   "source": [
    "mensaje = miFuncion(\"Juan\",\"Perez\")\n",
    "print(mensaje)"
   ]
  },
  {
   "cell_type": "markdown",
   "metadata": {
    "colab_type": "text",
    "id": "som2cF3NoNNi"
   },
   "source": [
    "Las funciones pueden tener parametros de entrada con valores por defecto.\n",
    "\n",
    "```Python\n",
    "def miFuncion(nombre, apellido, mensaje = 'Hola'):\n",
    "  return mensaje + ' ' + nombre + ' ' + apellido\n",
    "````"
   ]
  },
  {
   "cell_type": "code",
   "execution_count": 104,
   "metadata": {
    "colab": {},
    "colab_type": "code",
    "id": "ORPtW5HcoerO"
   },
   "outputs": [],
   "source": [
    "def miFuncion(nombre, apellido, mensaje = 'Hola'):\n",
    "  return mensaje + ' ' + nombre + ' ' + apellido"
   ]
  },
  {
   "cell_type": "code",
   "execution_count": 105,
   "metadata": {
    "colab": {
     "base_uri": "https://localhost:8080/",
     "height": 34
    },
    "colab_type": "code",
    "executionInfo": {
     "elapsed": 692,
     "status": "ok",
     "timestamp": 1591057459353,
     "user": {
      "displayName": "Ana Lopez",
      "photoUrl": "https://lh3.googleusercontent.com/a-/AOh14Gj1dkF5QHwdzo0ygY_LrTIzktyfsXlogjzGema4=s64",
      "userId": "15130352723004509221"
     },
     "user_tz": 300
    },
    "id": "zDWgEwOOoh7_",
    "outputId": "bebbd3e6-6b24-41e4-8382-107bc0896b6d"
   },
   "outputs": [
    {
     "name": "stdout",
     "output_type": "stream",
     "text": [
      "Hola Juan Perez\n"
     ]
    }
   ],
   "source": [
    "mensaje = miFuncion(\"Juan\",\"Perez\")\n",
    "print(mensaje)"
   ]
  },
  {
   "cell_type": "code",
   "execution_count": 106,
   "metadata": {
    "colab": {
     "base_uri": "https://localhost:8080/",
     "height": 34
    },
    "colab_type": "code",
    "executionInfo": {
     "elapsed": 703,
     "status": "ok",
     "timestamp": 1591057462865,
     "user": {
      "displayName": "Ana Lopez",
      "photoUrl": "https://lh3.googleusercontent.com/a-/AOh14Gj1dkF5QHwdzo0ygY_LrTIzktyfsXlogjzGema4=s64",
      "userId": "15130352723004509221"
     },
     "user_tz": 300
    },
    "id": "fSS2k2ZQojfM",
    "outputId": "e3e0bbba-42b3-4f3b-9bf6-9af66bc13874"
   },
   "outputs": [
    {
     "name": "stdout",
     "output_type": "stream",
     "text": [
      "Chao Juan Perez\n"
     ]
    }
   ],
   "source": [
    "mensaje = miFuncion(\"Juan\",\"Perez\",\"Chao\")\n",
    "print(mensaje)"
   ]
  },
  {
   "cell_type": "markdown",
   "metadata": {
    "colab_type": "text",
    "id": "hFTNODUAmD-v"
   },
   "source": [
    "### Ejercicio 4\n",
    "\n",
    "Escriba una función que calcule un valor según una formula dada:\n",
    "\n",
    "$Q = sqrt( (2 * C)/H )$\n",
    "\n",
    "$C$ Es un numero entero\n",
    "\n",
    "$H$ Es un numero entero\n",
    "\n",
    "La función debe de retornar el valor de $Q$.\n",
    "\n",
    "**Tip:** En Python se pueden importar librerias o paquetes usando `import`, para este ejercicio se importarña la libreria de matematicas `math`. Para usar el metodo `sqrt` se realiza el llamado de la siguiente manera `math.sqrt(numero)`"
   ]
  },
  {
   "cell_type": "code",
   "execution_count": 107,
   "metadata": {
    "colab": {},
    "colab_type": "code",
    "id": "IPmk2xcim1s2"
   },
   "outputs": [],
   "source": [
    "# Su Codigo"
   ]
  },
  {
   "cell_type": "markdown",
   "metadata": {
    "colab_type": "text",
    "id": "MEZrtKFBo9D3"
   },
   "source": [
    "### Ejercicio 5\n",
    "\n",
    "Escriba una función que calcule el area de un triangulo:\n",
    "\n",
    "$Area = (Base*Altura)/2 $\n",
    "\n",
    "$Base$ Es un numero entero o real.\n",
    "$Altura$ Es un numero entero o real.\n",
    "\n",
    "La función debe de retornar el valor del $Area$."
   ]
  },
  {
   "cell_type": "code",
   "execution_count": 0,
   "metadata": {
    "colab": {},
    "colab_type": "code",
    "id": "zYVK465Oo8R2"
   },
   "outputs": [],
   "source": [
    "# Su Codigo"
   ]
  },
  {
   "cell_type": "markdown",
   "metadata": {
    "colab_type": "text",
    "id": "6d7bbtJhp4KL"
   },
   "source": [
    "### Ejercicio 6\n",
    "\n",
    "Escriba una función que reciba como parametro un número entero y una lista, debe de adicionar a la lista el numero elevado al cubo y devolver la lista con el nuevo elemento."
   ]
  },
  {
   "cell_type": "code",
   "execution_count": 0,
   "metadata": {
    "colab": {},
    "colab_type": "code",
    "id": "hal1dT42p1tC"
   },
   "outputs": [],
   "source": [
    "# Su Codigo"
   ]
  },
  {
   "cell_type": "markdown",
   "metadata": {
    "colab_type": "text",
    "id": "_BJi1dmXHe9e"
   },
   "source": [
    "## Conjuntos en Python\n",
    "\n",
    "Python tiene un tipo de dato `set` el cual nos permite trabajar con conjuntos y realizar operaciones de conjuntos con estas variables.  Se define entre llaves (`{}`) y se separan los elementos con comas. \n",
    "\n",
    "```python\n",
    "conjunto = {1,2,3}\n",
    "````"
   ]
  },
  {
   "cell_type": "code",
   "execution_count": 108,
   "metadata": {
    "colab": {},
    "colab_type": "code",
    "id": "vH2b2v91HeGu"
   },
   "outputs": [],
   "source": [
    "# Definiendo conjuntos\n",
    "c1 = {1, 2, 3, 4, 5, 6}\n",
    "c2 = {2, 4, 6, 8, 10}\n",
    "c3 = {1, 2, 3}\n",
    "c4 = {4, 5, 6}"
   ]
  },
  {
   "cell_type": "code",
   "execution_count": 109,
   "metadata": {
    "colab": {
     "base_uri": "https://localhost:8080/",
     "height": 51
    },
    "colab_type": "code",
    "executionInfo": {
     "elapsed": 914,
     "status": "ok",
     "timestamp": 1591057500932,
     "user": {
      "displayName": "Ana Lopez",
      "photoUrl": "https://lh3.googleusercontent.com/a-/AOh14Gj1dkF5QHwdzo0ygY_LrTIzktyfsXlogjzGema4=s64",
      "userId": "15130352723004509221"
     },
     "user_tz": 300
    },
    "id": "1ZN6ZH3zIGFu",
    "outputId": "8be07b31-6037-43c4-c99d-0b427e1a2dd1"
   },
   "outputs": [
    {
     "name": "stdout",
     "output_type": "stream",
     "text": [
      "{1, 2, 3, 4, 5, 6, 8, 10}\n",
      "{1, 2, 3, 4, 5, 6, 8, 10}\n"
     ]
    }
   ],
   "source": [
    "# Union de conjuntos\n",
    "print(c1|c2)\n",
    "print(c1|c2|c3)"
   ]
  },
  {
   "cell_type": "code",
   "execution_count": 110,
   "metadata": {
    "colab": {
     "base_uri": "https://localhost:8080/",
     "height": 34
    },
    "colab_type": "code",
    "executionInfo": {
     "elapsed": 719,
     "status": "ok",
     "timestamp": 1591057504263,
     "user": {
      "displayName": "Ana Lopez",
      "photoUrl": "https://lh3.googleusercontent.com/a-/AOh14Gj1dkF5QHwdzo0ygY_LrTIzktyfsXlogjzGema4=s64",
      "userId": "15130352723004509221"
     },
     "user_tz": 300
    },
    "id": "06giFyw4IhSG",
    "outputId": "8e509237-5ad8-4e0e-b8ec-5ccf2675668c"
   },
   "outputs": [
    {
     "name": "stdout",
     "output_type": "stream",
     "text": [
      "{1, 2, 3, 4, 5, 6, 8, 10}\n"
     ]
    }
   ],
   "source": [
    "# Tambien puede hacerse la union con el metodo\n",
    "print(c1.union(c2))"
   ]
  },
  {
   "cell_type": "code",
   "execution_count": 111,
   "metadata": {
    "colab": {
     "base_uri": "https://localhost:8080/",
     "height": 51
    },
    "colab_type": "code",
    "executionInfo": {
     "elapsed": 771,
     "status": "ok",
     "timestamp": 1591057508124,
     "user": {
      "displayName": "Ana Lopez",
      "photoUrl": "https://lh3.googleusercontent.com/a-/AOh14Gj1dkF5QHwdzo0ygY_LrTIzktyfsXlogjzGema4=s64",
      "userId": "15130352723004509221"
     },
     "user_tz": 300
    },
    "id": "PU7yfesqIKnD",
    "outputId": "8cac85ac-ce15-4c5a-e200-3e9001a781b8"
   },
   "outputs": [
    {
     "name": "stdout",
     "output_type": "stream",
     "text": [
      "{2, 4, 6}\n",
      "set()\n"
     ]
    }
   ],
   "source": [
    "# Intersección de conjuntos\n",
    "print(c1&c2)\n",
    "print(c1 & c2 & c3 & c4)"
   ]
  },
  {
   "cell_type": "code",
   "execution_count": 112,
   "metadata": {
    "colab": {
     "base_uri": "https://localhost:8080/",
     "height": 34
    },
    "colab_type": "code",
    "executionInfo": {
     "elapsed": 684,
     "status": "ok",
     "timestamp": 1591057513736,
     "user": {
      "displayName": "Ana Lopez",
      "photoUrl": "https://lh3.googleusercontent.com/a-/AOh14Gj1dkF5QHwdzo0ygY_LrTIzktyfsXlogjzGema4=s64",
      "userId": "15130352723004509221"
     },
     "user_tz": 300
    },
    "id": "lBva9uaFIm7z",
    "outputId": "87d313b3-d43c-4402-bdde-01c00093d3aa"
   },
   "outputs": [
    {
     "name": "stdout",
     "output_type": "stream",
     "text": [
      "{2}\n"
     ]
    }
   ],
   "source": [
    "# Tambien puede hacerse la intersección con el metodo\n",
    "print(c1.intersection(c2,c3))"
   ]
  },
  {
   "cell_type": "code",
   "execution_count": 113,
   "metadata": {
    "colab": {
     "base_uri": "https://localhost:8080/",
     "height": 34
    },
    "colab_type": "code",
    "executionInfo": {
     "elapsed": 563,
     "status": "ok",
     "timestamp": 1591057517106,
     "user": {
      "displayName": "Ana Lopez",
      "photoUrl": "https://lh3.googleusercontent.com/a-/AOh14Gj1dkF5QHwdzo0ygY_LrTIzktyfsXlogjzGema4=s64",
      "userId": "15130352723004509221"
     },
     "user_tz": 300
    },
    "id": "yflsGQ9hIW9t",
    "outputId": "48045caa-1d79-45e2-a3f8-b6b5ec0a99ec"
   },
   "outputs": [
    {
     "name": "stdout",
     "output_type": "stream",
     "text": [
      "{1, 3, 5}\n"
     ]
    }
   ],
   "source": [
    "# Diferencia de conjuntos\n",
    "print(c1-c2)"
   ]
  },
  {
   "cell_type": "code",
   "execution_count": 114,
   "metadata": {
    "colab": {
     "base_uri": "https://localhost:8080/",
     "height": 34
    },
    "colab_type": "code",
    "executionInfo": {
     "elapsed": 698,
     "status": "ok",
     "timestamp": 1591057519293,
     "user": {
      "displayName": "Ana Lopez",
      "photoUrl": "https://lh3.googleusercontent.com/a-/AOh14Gj1dkF5QHwdzo0ygY_LrTIzktyfsXlogjzGema4=s64",
      "userId": "15130352723004509221"
     },
     "user_tz": 300
    },
    "id": "aEMq5n2MJAns",
    "outputId": "a48695f5-6042-4c25-c861-d563543213a6"
   },
   "outputs": [
    {
     "name": "stdout",
     "output_type": "stream",
     "text": [
      "{1, 3, 5}\n"
     ]
    }
   ],
   "source": [
    "# Diferencia de conjuntos con el metodo\n",
    "print(c1.difference(c2))"
   ]
  },
  {
   "cell_type": "code",
   "execution_count": 115,
   "metadata": {
    "colab": {
     "base_uri": "https://localhost:8080/",
     "height": 34
    },
    "colab_type": "code",
    "executionInfo": {
     "elapsed": 667,
     "status": "ok",
     "timestamp": 1591057523864,
     "user": {
      "displayName": "Ana Lopez",
      "photoUrl": "https://lh3.googleusercontent.com/a-/AOh14Gj1dkF5QHwdzo0ygY_LrTIzktyfsXlogjzGema4=s64",
      "userId": "15130352723004509221"
     },
     "user_tz": 300
    },
    "id": "CF1rCOAXIbpC",
    "outputId": "bc1dbfda-7358-4cf2-956f-162bd6375496"
   },
   "outputs": [
    {
     "name": "stdout",
     "output_type": "stream",
     "text": [
      "{1, 3, 5, 8, 10}\n"
     ]
    }
   ],
   "source": [
    "# Union exclusiva\n",
    "print(c1^c2)"
   ]
  },
  {
   "cell_type": "code",
   "execution_count": 116,
   "metadata": {
    "colab": {
     "base_uri": "https://localhost:8080/",
     "height": 34
    },
    "colab_type": "code",
    "executionInfo": {
     "elapsed": 733,
     "status": "ok",
     "timestamp": 1591057525785,
     "user": {
      "displayName": "Ana Lopez",
      "photoUrl": "https://lh3.googleusercontent.com/a-/AOh14Gj1dkF5QHwdzo0ygY_LrTIzktyfsXlogjzGema4=s64",
      "userId": "15130352723004509221"
     },
     "user_tz": 300
    },
    "id": "Z82kOAwuJHrr",
    "outputId": "3a463abd-51a9-4717-dbfb-c35ee612d111"
   },
   "outputs": [
    {
     "name": "stdout",
     "output_type": "stream",
     "text": [
      "{1, 3, 5, 8, 10}\n"
     ]
    }
   ],
   "source": [
    "# Union exclusiva con el metodo\n",
    "print(c1.symmetric_difference(c2))"
   ]
  },
  {
   "cell_type": "markdown",
   "metadata": {
    "colab_type": "text",
    "id": "pqHkQ1qn7Dwk"
   },
   "source": [
    "## Estructuras de control\n",
    "\n",
    "### Ciclos FOR\n",
    "\n",
    "Los ciclos For en Python son simples. La estructura basica esta dada por **`for <var-name> in <iterable> :`**\n",
    "**Importante** finalizando el for siempre debe de ir **:**, es obligatorio y para los constructores del flujo de control son obligación. \n",
    "\n",
    "El bloque que sera iterado esta determinado por la tabulación de las lineas siguientes del for.   \n",
    "   \n",
    "La linea en blanco despues de las dos sentencias no es obligatoria, pero es considerada buena practica. Las lineas luego del ciclo for no llevan tabulación, por lo tanto ya estan fuera del ciclo."
   ]
  },
  {
   "cell_type": "code",
   "execution_count": 117,
   "metadata": {
    "colab": {},
    "colab_type": "code",
    "id": "lSixF4Ga7C3R"
   },
   "outputs": [],
   "source": [
    "string_list = [ \"Juan\", \"is\", \"1.70\", \"metres\", \"high\"]"
   ]
  },
  {
   "cell_type": "code",
   "execution_count": 118,
   "metadata": {
    "colab": {},
    "colab_type": "code",
    "id": "A28Sqg6Y7Joj"
   },
   "outputs": [
    {
     "name": "stdout",
     "output_type": "stream",
     "text": [
      "Juan\n",
      "4 characters\n",
      "\n",
      "is\n",
      "2 characters\n",
      "\n",
      "1.70\n",
      "4 characters\n",
      "\n",
      "metres\n",
      "6 characters\n",
      "\n",
      "high\n",
      "4 characters\n",
      "\n",
      "The loop is done\n"
     ]
    }
   ],
   "source": [
    "for elem in string_list : \n",
    "    print( elem )\n",
    "    print( len(elem), 'characters\\n' )\n",
    "    \n",
    "print( \"The loop is done\")"
   ]
  },
  {
   "cell_type": "code",
   "execution_count": 119,
   "metadata": {
    "colab": {},
    "colab_type": "code",
    "id": "cmT-cI_yBqWG"
   },
   "outputs": [
    {
     "name": "stdout",
     "output_type": "stream",
     "text": [
      "0\n",
      "Juan\n",
      "4\n",
      "1\n",
      "is\n",
      "2\n",
      "2\n",
      "1.70\n",
      "4\n",
      "3\n",
      "metres\n",
      "6\n",
      "4\n",
      "high\n",
      "4\n"
     ]
    }
   ],
   "source": [
    "for idx in range(len(string_list)):\n",
    "  print(idx)\n",
    "  print(string_list[idx])\n",
    "  print(len(string_list[idx]))"
   ]
  },
  {
   "cell_type": "markdown",
   "metadata": {
    "colab_type": "text",
    "id": "GsZQs3v57OAR"
   },
   "source": [
    "#### Otra forma de iterar un ciclo for : range ( a, b, s )\n",
    "\n",
    "Una forma común de iterar un ciclo for es desde 0 hasta n-1.  Esto se puede implementar con una funcion range."
   ]
  },
  {
   "cell_type": "code",
   "execution_count": 120,
   "metadata": {
    "colab": {},
    "colab_type": "code",
    "id": "36Le1FsL7Qfk"
   },
   "outputs": [
    {
     "name": "stdout",
     "output_type": "stream",
     "text": [
      "i = 0\n",
      "i = 1\n",
      "i = 2\n",
      "i = 3\n",
      "i = 4\n",
      "i = 5\n",
      "i = 6\n",
      "i = 7\n",
      "i = 8\n",
      "i = 9\n"
     ]
    }
   ],
   "source": [
    "n = 10 # desired number of iterations\n",
    "\n",
    "for  i in range(0,10) : \n",
    "    print( f\"i = {i}\")"
   ]
  },
  {
   "cell_type": "code",
   "execution_count": 121,
   "metadata": {
    "colab": {},
    "colab_type": "code",
    "id": "HW1jcO9a7SFM"
   },
   "outputs": [
    {
     "name": "stdout",
     "output_type": "stream",
     "text": [
      "i = 3\n",
      "i = 4\n",
      "i = 5\n",
      "i = 6\n",
      "i = 7\n",
      "i = 8\n",
      "i = 9\n"
     ]
    }
   ],
   "source": [
    "for  i in range(3,10) : \n",
    "    print( f\"i = {i}\")"
   ]
  },
  {
   "cell_type": "code",
   "execution_count": 122,
   "metadata": {
    "colab": {},
    "colab_type": "code",
    "id": "MDOf7ZMA7VvR"
   },
   "outputs": [
    {
     "name": "stdout",
     "output_type": "stream",
     "text": [
      "i = 20\n",
      "i = 15\n",
      "i = 10\n",
      "i = 5\n"
     ]
    }
   ],
   "source": [
    "for  i in range(20, 3, -5) : \n",
    "    print( f\"i = {i}\")"
   ]
  },
  {
   "cell_type": "markdown",
   "metadata": {
    "colab_type": "text",
    "id": "TVYDGddg7XHh"
   },
   "source": [
    "### Condicional IF - ELIF - ELSE\n",
    "\n",
    "**Nota:**\n",
    "\n",
    "* No hay paréntesis alrededor de las condiciones booleanas. \n",
    "* Puede haber tantas ramas elif como desee cada una con una condición explícita.\n",
    "* ¡Sólo puede haber una más al final, sin condición, por supuesto!"
   ]
  },
  {
   "cell_type": "code",
   "execution_count": 123,
   "metadata": {
    "colab": {},
    "colab_type": "code",
    "id": "e5IINCKi7bq0"
   },
   "outputs": [
    {
     "name": "stdout",
     "output_type": "stream",
     "text": [
      "z is between -10 and 10 but not zero\n"
     ]
    }
   ],
   "source": [
    "z = -6\n",
    "if  z > 10 :   \n",
    "    print( \"A: This is big!!!\")\n",
    "    print( \"B: That's what she said!\")\n",
    "elif z == 0 : \n",
    "    print( \"z is Zero!!!\")\n",
    "elif z > -10 : \n",
    "    print( \"z is between -10 and 10 but not zero\")\n",
    "else : \n",
    "    print( \"z is probably negative. Who knows... computers are weird...\")"
   ]
  },
  {
   "cell_type": "code",
   "execution_count": 0,
   "metadata": {
    "colab": {},
    "colab_type": "code",
    "id": "jgiwzvtaAoNg"
   },
   "outputs": [],
   "source": [
    "z = 11\n",
    "if  z > 10 and z == 0 :\n",
    "  print(\"ok\")\n",
    "else:\n",
    "  print(\"no\")   "
   ]
  }
 ],
 "metadata": {
  "colab": {
   "collapsed_sections": [],
   "name": "Fundamentos de Python Parte 1.ipynb",
   "provenance": [
    {
     "file_id": "1JccNwcj5e4lD5IpLCyoXvYLfFvZGW0dx",
     "timestamp": 1591047389141
    }
   ]
  },
  "kernelspec": {
   "display_name": "Python 3",
   "language": "python",
   "name": "python3"
  },
  "language_info": {
   "codemirror_mode": {
    "name": "ipython",
    "version": 3
   },
   "file_extension": ".py",
   "mimetype": "text/x-python",
   "name": "python",
   "nbconvert_exporter": "python",
   "pygments_lexer": "ipython3",
   "version": "3.6.7"
  }
 },
 "nbformat": 4,
 "nbformat_minor": 1
}
